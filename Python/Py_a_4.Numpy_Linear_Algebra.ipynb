{
 "cells": [
  {
   "cell_type": "markdown",
   "metadata": {},
   "source": [
    "# Random Generator "
   ]
  },
  {
   "cell_type": "code",
   "execution_count": 63,
   "metadata": {},
   "outputs": [
    {
     "name": "stdout",
     "output_type": "stream",
     "text": [
      "[0 1 2 3 4 5 6 7 8 9]\n",
      "[ 5  6  7  8  9 10 11 12 13 14]\n"
     ]
    }
   ],
   "source": [
    "a=np.arange(10)\n",
    "print(a)\n",
    "\n",
    "a=np.arange(10)+5\n",
    "print(a)\n"
   ]
  },
  {
   "cell_type": "code",
   "execution_count": 64,
   "metadata": {},
   "outputs": [
    {
     "name": "stdout",
     "output_type": "stream",
     "text": [
      "[ 5 13  6  7  8  9 14 12 11 10]\n"
     ]
    }
   ],
   "source": [
    "# shuffle all elements of a randomly\n",
    "\n",
    "np.random.shuffle(a)\n",
    "print(a)"
   ]
  },
  {
   "cell_type": "code",
   "execution_count": 66,
   "metadata": {},
   "outputs": [
    {
     "name": "stdout",
     "output_type": "stream",
     "text": [
      "[[ 2.54091818  0.51615632 -0.49092734]\n",
      " [ 0.26511238 -0.10924634  0.23889704]]\n"
     ]
    }
   ],
   "source": [
    "# randn return array from standard normal distribution\n",
    "\n",
    "a=np.random.randn(2,3)\n",
    "print(a)"
   ]
  },
  {
   "cell_type": "code",
   "execution_count": 75,
   "metadata": {},
   "outputs": [
    {
     "name": "stdout",
     "output_type": "stream",
     "text": [
      "[8 9 5 6 8 5 5 6]\n"
     ]
    }
   ],
   "source": [
    "a=np.random.randint(5,10,8)\n",
    "print(a)"
   ]
  },
  {
   "cell_type": "code",
   "execution_count": 76,
   "metadata": {},
   "outputs": [
    {
     "name": "stdout",
     "output_type": "stream",
     "text": [
      "11\n"
     ]
    }
   ],
   "source": [
    "# Randomly choose any element\n",
    "\n",
    "ele=np.random.choice([1,4,3,2,11,27])\n",
    "print(ele)"
   ]
  },
  {
   "cell_type": "code",
   "execution_count": 77,
   "metadata": {},
   "outputs": [
    {
     "name": "stdout",
     "output_type": "stream",
     "text": [
      "[6 5 9 5 8 8 6 5]\n"
     ]
    }
   ],
   "source": [
    "# Pseudo Random number generator start from a particular seed value and go on generating\n",
    "# In series so if we want same set of real numbers set the same seed value else they will give value on their own\n",
    "# If we want to have same result on every run then same seed value must be given \n",
    "\n",
    "\n",
    "np.random.seed(1)\n",
    "np.random.shuffle(a)\n",
    "print(a)"
   ]
  },
  {
   "cell_type": "markdown",
   "metadata": {},
   "source": [
    "# Statistical Computation using Numpy"
   ]
  },
  {
   "cell_type": "code",
   "execution_count": 82,
   "metadata": {},
   "outputs": [
    {
     "name": "stdout",
     "output_type": "stream",
     "text": [
      "-99\n",
      "[  1   2   2 -99]\n",
      "[  1 -99]\n"
     ]
    }
   ],
   "source": [
    "a=np.array([[1,2,3,4],[7,6,2,-99]])\n",
    "print(np.min(a))\n",
    "\n",
    "# Minimum along cols\n",
    "print(np.min(a,axis=0))\n",
    "\n",
    "# Minimum along rows\n",
    "print(np.min(a,axis=1))"
   ]
  },
  {
   "cell_type": "code",
   "execution_count": 85,
   "metadata": {},
   "outputs": [
    {
     "name": "stdout",
     "output_type": "stream",
     "text": [
      "3.0\n",
      "3.0\n",
      "[  4.    4.    2.5 -47.5]\n"
     ]
    }
   ],
   "source": [
    "b=np.array([1,2,3,4,5])\n",
    "m=sum(b)/5\n",
    "print(m)\n",
    "print(np.mean(b))\n",
    "print(np.mean(a,axis=0))"
   ]
  },
  {
   "cell_type": "code",
   "execution_count": 2,
   "metadata": {},
   "outputs": [
    {
     "name": "stdout",
     "output_type": "stream",
     "text": [
      "2.0\n",
      "2.4\n"
     ]
    }
   ],
   "source": [
    "# Median is the value seprating higher half from the lower half\n",
    "# Median is the middle number in sorted ascending or desecnding list\n",
    "\n",
    "import numpy as np\n",
    "c=np.array([1,5,4,2,0])\n",
    "print(np.median(c))\n",
    "print(np.mean(c))\n"
   ]
  },
  {
   "cell_type": "markdown",
   "metadata": {},
   "source": [
    "### Weighted Mean --> Relative importance of different varible each element is multiplied by its weight and total\n",
    "### is divided by sum of weight"
   ]
  },
  {
   "cell_type": "code",
   "execution_count": 6,
   "metadata": {},
   "outputs": [
    {
     "name": "stdout",
     "output_type": "stream",
     "text": [
      "2.066666666666667\n"
     ]
    }
   ],
   "source": [
    "w=np.array([1,2,3,4,5])\n",
    "print(np.average(c,weights=w))\n"
   ]
  },
  {
   "cell_type": "markdown",
   "metadata": {},
   "source": [
    "# Standard Deviation"
   ]
  },
  {
   "cell_type": "markdown",
   "metadata": {},
   "source": [
    "### It is the measure of dispersion i.e how much the data is spread out low deviation means data is compressed along mean and high deviation means data is scattered along mean"
   ]
  },
  {
   "cell_type": "markdown",
   "metadata": {},
   "source": [
    "#### 68% of data lies in the first standard deviation of mean 95% in second deviation and  upto 99% in 3rd deviation"
   ]
  },
  {
   "cell_type": "markdown",
   "metadata": {},
   "source": [
    "###  Standard deviation of zero indicate that all values are same "
   ]
  },
  {
   "cell_type": "code",
   "execution_count": 8,
   "metadata": {},
   "outputs": [
    {
     "data": {
      "text/plain": [
       "<matplotlib.image.AxesImage at 0x1202487b8>"
      ]
     },
     "execution_count": 8,
     "metadata": {},
     "output_type": "execute_result"
    },
    {
     "data": {
      "image/png": "[encoded data removed]",
      "text/plain": [
       "<Figure size 432x288 with 1 Axes>"
      ]
     },
     "metadata": {
      "needs_background": "light"
     },
     "output_type": "display_data"
    }
   ],
   "source": [
    "import cv2\n",
    "from matplotlib import pyplot as plt \n",
    "\n",
    "mimg=cv2.imread('S_D.png')\n",
    "plt.imshow(mimg)"
   ]
  },
  {
   "cell_type": "code",
   "execution_count": 10,
   "metadata": {},
   "outputs": [
    {
     "name": "stdout",
     "output_type": "stream",
     "text": [
      "1.854723699099141\n"
     ]
    }
   ],
   "source": [
    "# Way 1\n",
    "\n",
    "u=np.mean(c)\n",
    "my_std=np.sqrt(np.mean(abs(c-u)**2))\n",
    "print(my_std)"
   ]
  },
  {
   "cell_type": "code",
   "execution_count": 11,
   "metadata": {},
   "outputs": [
    {
     "name": "stdout",
     "output_type": "stream",
     "text": [
      "1.854723699099141\n"
     ]
    }
   ],
   "source": [
    "# Way 2\n",
    "\n",
    "dev=np.std(c)\n",
    "print(dev)"
   ]
  },
  {
   "cell_type": "code",
   "execution_count": 12,
   "metadata": {},
   "outputs": [
    {
     "name": "stdout",
     "output_type": "stream",
     "text": [
      "3.440000000000001\n",
      "3.4400000000000004\n"
     ]
    }
   ],
   "source": [
    "# Varience \n",
    "\n",
    "print(my_std**2)\n",
    "print(np.var(c))"
   ]
  },
  {
   "cell_type": "markdown",
   "metadata": {},
   "source": [
    "# Matix and Tensors\n",
    "\n",
    "###  Scalar=  single number denoted as x\n",
    "###  Vector=  array of scalars"
   ]
  },
  {
   "cell_type": "code",
   "execution_count": 14,
   "metadata": {},
   "outputs": [
    {
     "name": "stdout",
     "output_type": "stream",
     "text": [
      "[4 5 6]\n",
      "(3,)\n"
     ]
    }
   ],
   "source": [
    "import numpy as np\n",
    "\n",
    "x1=np.array([4,5,6])\n",
    "print(x1)\n",
    "print(x1.shape)\n",
    "\n",
    "# It is visble from shape that numpy visulazie array as coloumn vector however they are show as list"
   ]
  },
  {
   "cell_type": "code",
   "execution_count": 18,
   "metadata": {},
   "outputs": [
    {
     "name": "stdout",
     "output_type": "stream",
     "text": [
      "(4, 1)\n",
      "4\n",
      "(4,)\n",
      "[[4 5]\n",
      " [6 1]]\n"
     ]
    }
   ],
   "source": [
    "x2=np.array([[4],[5],[6],[1]])\n",
    "print(x2.shape)\n",
    "print(x2[0][0])\n",
    "\n",
    "\n",
    "\n",
    "# if we want to flatten it into a single row\n",
    "x2=x2.reshape((-1,))\n",
    "print(x2.shape)\n",
    "\n",
    "\n",
    "x2=x2.reshape((-1,2))\n",
    "print(x2)"
   ]
  },
  {
   "cell_type": "code",
   "execution_count": 22,
   "metadata": {},
   "outputs": [
    {
     "name": "stdout",
     "output_type": "stream",
     "text": [
      "(3, 3)\n",
      "[[4 5 7]\n",
      " [1 2 3]\n",
      " [7 8 9]]\n"
     ]
    }
   ],
   "source": [
    "X=np.array([[4,5,7],[1,2,3],[7,8,9]])\n",
    "print(X.shape)\n",
    "print(X)"
   ]
  },
  {
   "cell_type": "code",
   "execution_count": 24,
   "metadata": {},
   "outputs": [
    {
     "name": "stdout",
     "output_type": "stream",
     "text": [
      "[[4 5 7]\n",
      " [2 2 2]\n",
      " [2 2 2]]\n"
     ]
    }
   ],
   "source": [
    "X[1:,:]=2\n",
    "print(X)"
   ]
  },
  {
   "cell_type": "code",
   "execution_count": 26,
   "metadata": {},
   "outputs": [
    {
     "name": "stdout",
     "output_type": "stream",
     "text": [
      "(2, 2, 3)\n"
     ]
    }
   ],
   "source": [
    "# That tensors are a generalization of matrices and are represented using n-dimensional arrays.\n",
    "# i.e array with more than 2-axis is know as tensor\n",
    "\n",
    "T=np.array([[[4,5,7],[1,2,3]],[[7,8,9],[23,12,45]]])\n",
    "print(T.shape)"
   ]
  },
  {
   "cell_type": "code",
   "execution_count": 27,
   "metadata": {},
   "outputs": [
    {
     "name": "stdout",
     "output_type": "stream",
     "text": [
      "[[[ 4  5  7]\n",
      "  [ 1  2  3]]\n",
      "\n",
      " [[ 7  8  9]\n",
      "  [23 12 45]]]\n"
     ]
    }
   ],
   "source": [
    "print(T)"
   ]
  },
  {
   "cell_type": "markdown",
   "metadata": {},
   "source": [
    "# Transpose\n",
    "## For a 2_d matrix A(i,j) is represented as A(j,i)\n",
    "## For a vector transpose can make a coloumn vector into a row "
   ]
  },
  {
   "cell_type": "code",
   "execution_count": 34,
   "metadata": {},
   "outputs": [
    {
     "name": "stdout",
     "output_type": "stream",
     "text": [
      "[[4 5 7]\n",
      " [2 2 2]\n",
      " [2 2 2]]\n",
      "\n",
      "\n",
      "[[4 2 2]\n",
      " [5 2 2]\n",
      " [7 2 2]]\n",
      "\n",
      "\n",
      "[4 2 2 5 2 2 7 2 2]\n"
     ]
    }
   ],
   "source": [
    "print(X)\n",
    "xt=np.transpose(X)\n",
    "print('\\n')\n",
    "print(xt)\n",
    "\n",
    "\n",
    "# Reshaping it to a linear array\n",
    "print('\\n')\n",
    "print(xt.reshape(-1,))"
   ]
  },
  {
   "cell_type": "code",
   "execution_count": 36,
   "metadata": {},
   "outputs": [
    {
     "name": "stdout",
     "output_type": "stream",
     "text": [
      "[[4]\n",
      " [5]\n",
      " [7]\n",
      " [2]\n",
      " [2]\n",
      " [2]\n",
      " [2]\n",
      " [2]\n",
      " [2]]\n",
      "[[4 5 7 2 2 2 2 2 2]]\n"
     ]
    }
   ],
   "source": [
    "y=X.reshape((-1,1))\n",
    "print(y)\n",
    "print(np.transpose(y))"
   ]
  },
  {
   "cell_type": "markdown",
   "metadata": {},
   "source": [
    "### Matrix multiplication"
   ]
  },
  {
   "cell_type": "code",
   "execution_count": 38,
   "metadata": {},
   "outputs": [
    {
     "name": "stdout",
     "output_type": "stream",
     "text": [
      "(3, 3)\n",
      "(3, 3)\n",
      "[[ 73  89 105]\n",
      " [ 30  36  42]\n",
      " [ 90 114 138]]\n"
     ]
    }
   ],
   "source": [
    "x=np.array([[4,5,7],[1,2,3],[9,8,7]])\n",
    "y=np.array([[1,2,3],[4,5,6],[7,8,9]])\n",
    "\n",
    "print(x.shape)\n",
    "print(y.shape)\n",
    "\n",
    "prod=np.dot(x,y)\n",
    "print(prod)"
   ]
  },
  {
   "cell_type": "markdown",
   "metadata": {},
   "source": [
    "# Element wise multiplication i.e Hadamard Product"
   ]
  },
  {
   "cell_type": "code",
   "execution_count": 40,
   "metadata": {},
   "outputs": [
    {
     "name": "stdout",
     "output_type": "stream",
     "text": [
      "[[4 5 7]\n",
      " [1 2 3]\n",
      " [9 8 7]]\n",
      "[[4. 0. 0.]\n",
      " [0. 2. 0.]\n",
      " [0. 0. 7.]]\n"
     ]
    }
   ],
   "source": [
    "print(x)\n",
    "y=np.eye(3)\n",
    "print(x*y)"
   ]
  },
  {
   "cell_type": "code",
   "execution_count": 41,
   "metadata": {},
   "outputs": [
    {
     "name": "stdout",
     "output_type": "stream",
     "text": [
      "[[3. 2. 2.]\n",
      " [2. 3. 2.]\n",
      " [2. 2. 3.]]\n"
     ]
    }
   ],
   "source": [
    "y=y+2\n",
    "print(y)"
   ]
  },
  {
   "cell_type": "markdown",
   "metadata": {},
   "source": [
    "#  Norm of a vector\n",
    "## Can be thought as proxy for size of a vector\n",
    "### If x=[x1,x2,x3] then Lp is pth root of (x1**2)+(x2**2)+(x3**2)"
   ]
  },
  {
   "cell_type": "code",
   "execution_count": 45,
   "metadata": {},
   "outputs": [],
   "source": [
    "x=np.array([-5,3,10])"
   ]
  },
  {
   "cell_type": "code",
   "execution_count": 47,
   "metadata": {},
   "outputs": [
    {
     "name": "stdout",
     "output_type": "stream",
     "text": [
      "11.575836902790225\n",
      "18.0\n",
      "10.0\n"
     ]
    }
   ],
   "source": [
    "# By defalut it is L2 norm\n",
    "lp2=np.linalg.norm(x)\n",
    "print(lp2)\n",
    "\n",
    "# We can change the order of the norm\n",
    "lp1=np.linalg.norm(x,ord=1)\n",
    "print(lp1)\n",
    "\n",
    "# Infinity norm (it is the mod of largest value in the array)\n",
    "lp3=np.linalg.norm(x,ord=np.inf)\n",
    "print(lp3)"
   ]
  },
  {
   "cell_type": "markdown",
   "metadata": {},
   "source": [
    "# Broad casting "
   ]
  },
  {
   "cell_type": "code",
   "execution_count": 49,
   "metadata": {},
   "outputs": [
    {
     "name": "stdout",
     "output_type": "stream",
     "text": [
      "[2 3 4 5]\n"
     ]
    }
   ],
   "source": [
    "l=[1,2,3,4]\n",
    "l=np.array(l)\n",
    "\n",
    "# However if we have not converted it to the numpy array than l=l+1 will have given an error\n",
    "l=l+1\n",
    "print(l)"
   ]
  },
  {
   "cell_type": "code",
   "execution_count": null,
   "metadata": {},
   "outputs": [],
   "source": []
  }
 ],
 "metadata": {
  "kernelspec": {
   "display_name": "Python 3",
   "language": "python",
   "name": "python3"
  },
  "language_info": {
   "codemirror_mode": {
    "name": "ipython",
    "version": 3
   },
   "file_extension": ".py",
   "mimetype": "text/x-python",
   "name": "python",
   "nbconvert_exporter": "python",
   "pygments_lexer": "ipython3",
   "version": "3.7.3"
  }
 },
 "nbformat": 4,
 "nbformat_minor": 2
}
