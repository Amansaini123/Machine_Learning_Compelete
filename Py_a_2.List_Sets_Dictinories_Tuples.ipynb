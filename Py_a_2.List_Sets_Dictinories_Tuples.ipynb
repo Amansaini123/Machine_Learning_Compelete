{
 "cells": [
  {
   "cell_type": "code",
   "execution_count": 2,
   "metadata": {},
   "outputs": [
    {
     "data": {
      "text/plain": [
       "True"
      ]
     },
     "execution_count": 2,
     "metadata": {},
     "output_type": "execute_result"
    }
   ],
   "source": [
    "my_str=\"aman\"\n",
    "my_str.endswith('n')"
   ]
  },
  {
   "cell_type": "markdown",
   "metadata": {},
   "source": [
    "## Lists\n",
    "- A list is a data structure in Python that is a mutable, or changeable, ordered sequence of elements. Each element or value that is inside of a list is called an item."
   ]
  },
  {
   "cell_type": "code",
   "execution_count": 4,
   "metadata": {},
   "outputs": [
    {
     "name": "stdout",
     "output_type": "stream",
     "text": [
      "[1, 2, 3.5, 'aman']\n",
      "<class 'list'>\n"
     ]
    }
   ],
   "source": [
    "# List is heterogenous in nature\n",
    "\n",
    "l=[1,2,3.5,'aman']\n",
    "print(l)\n",
    "print(type(l))"
   ]
  },
  {
   "cell_type": "code",
   "execution_count": 5,
   "metadata": {},
   "outputs": [
    {
     "name": "stdout",
     "output_type": "stream",
     "text": [
      "[1, 2, 3.23, 'amansaini']\n"
     ]
    }
   ],
   "source": [
    "# We can also initlaise list via construtor\n",
    "\n",
    "l2=list([1,2,3.23,'amansaini'])\n",
    "print(l2)"
   ]
  },
  {
   "cell_type": "code",
   "execution_count": 6,
   "metadata": {},
   "outputs": [
    {
     "name": "stdout",
     "output_type": "stream",
     "text": [
      "[1, 2, 3.23, 'amansaini']\n"
     ]
    }
   ],
   "source": [
    "# Copy construtor of a list i.e passing another list as the entire argument\n",
    "\n",
    "l3=list(l2)\n",
    "print(l3)"
   ]
  },
  {
   "cell_type": "code",
   "execution_count": 9,
   "metadata": {},
   "outputs": [
    {
     "name": "stdout",
     "output_type": "stream",
     "text": [
      "[1, 2, 3.5, 'aman', 1, 2, 3.23, 'amansaini']\n"
     ]
    }
   ],
   "source": [
    "# Adding two list\n",
    "\n",
    "l4=l+l2\n",
    "print(l4)"
   ]
  },
  {
   "cell_type": "code",
   "execution_count": 11,
   "metadata": {},
   "outputs": [
    {
     "name": "stdout",
     "output_type": "stream",
     "text": [
      "[1, 2, 3.5, 'aman', 1, 2, 3.23, 'amansaini']\n"
     ]
    }
   ],
   "source": [
    "# Adding two lists\n",
    "\n",
    "l.extend(l2)\n",
    "print(l)"
   ]
  },
  {
   "cell_type": "code",
   "execution_count": 12,
   "metadata": {},
   "outputs": [
    {
     "name": "stdout",
     "output_type": "stream",
     "text": [
      "[1, 4, 9, 16, 25]\n"
     ]
    }
   ],
   "source": [
    "# List comprehension or for loop in list\n",
    "\n",
    "l6=[i*i for i in range(1,6)]\n",
    "print(l6) "
   ]
  },
  {
   "cell_type": "code",
   "execution_count": 20,
   "metadata": {},
   "outputs": [
    {
     "name": "stdout",
     "output_type": "stream",
     "text": [
      "[1, 2, 3]\n",
      "[1, 2, 3, [76, 69]]\n",
      "[1, 2, 3, [76, 69], 4, 5, 6]\n"
     ]
    }
   ],
   "source": [
    "# append(value to be inserted)\n",
    "\n",
    "l=[1,2]\n",
    "l.append(3)\n",
    "print(l)\n",
    "\n",
    "l.append([76,69])\n",
    "print(l)\n",
    "\n",
    "l+=[4,5,6]\n",
    "print(l)"
   ]
  },
  {
   "cell_type": "code",
   "execution_count": 21,
   "metadata": {},
   "outputs": [
    {
     "name": "stdout",
     "output_type": "stream",
     "text": [
      "[1, 2, 20, 3, [76, 69], 4, 5, 6]\n",
      "[76, 69]\n",
      "76\n",
      "69\n"
     ]
    }
   ],
   "source": [
    "#insert(index,value)\n",
    "#i.e insert at that value and shift all the values to the right\n",
    "\n",
    "l.insert(2,20)\n",
    "print(l)\n",
    "\n",
    "\n",
    "print(l[4])\n",
    "print(l[4][0])\n",
    "print(l[4][1])\n",
    "\n"
   ]
  },
  {
   "cell_type": "code",
   "execution_count": 22,
   "metadata": {},
   "outputs": [
    {
     "name": "stdout",
     "output_type": "stream",
     "text": [
      "[1, 2, 3, [76, 69], 4, 5, 6]\n",
      "[2, 3, [76, 69], 4, 5, 6]\n",
      "[2, 3, [76, 69], 4, 5]\n"
     ]
    }
   ],
   "source": [
    "# remove(value to be removed)\n",
    "\n",
    "l.remove(20)\n",
    "print(l)\n",
    "\n",
    "\n",
    "# del\n",
    "del l[0]\n",
    "print(l)\n",
    "\n",
    "\n",
    "#pop (This pop out the last element of the list)\n",
    "l.pop()\n",
    "print(l)"
   ]
  },
  {
   "cell_type": "code",
   "execution_count": 23,
   "metadata": {},
   "outputs": [
    {
     "name": "stdout",
     "output_type": "stream",
     "text": [
      "[1, 2, 3, 1, 2, 3, 1, 2, 3, 1, 2, 3]\n"
     ]
    }
   ],
   "source": [
    "l=[1,2,3]\n",
    "l=l*4\n",
    "print(l)"
   ]
  },
  {
   "cell_type": "code",
   "execution_count": 24,
   "metadata": {},
   "outputs": [
    {
     "name": "stdout",
     "output_type": "stream",
     "text": [
      "True\n",
      "\n",
      "\n",
      "apple\n",
      "mango\n",
      "guava\n",
      "80\n",
      "\n",
      "\n",
      "apple\n",
      "mango\n",
      "guava\n",
      "80\n"
     ]
    }
   ],
   "source": [
    "l=['apple','mango','guava',80]\n",
    "print(80 in l)\n",
    "\n",
    "print('\\n')\n",
    "\n",
    "for i in range(len(l)):\n",
    "    print(l[i])\n",
    "    \n",
    "print('\\n')\n",
    "\n",
    "for c in l:\n",
    "    print(c)"
   ]
  },
  {
   "cell_type": "code",
   "execution_count": 25,
   "metadata": {},
   "outputs": [
    {
     "name": "stdout",
     "output_type": "stream",
     "text": [
      "18\n",
      "3\n",
      "[2, 3, 4, 16, 18]\n"
     ]
    }
   ],
   "source": [
    "l=[4,3,2,16,18]\n",
    "print(max(l))\n",
    "print(l.index(16))\n",
    "\n",
    "# Not inplace\n",
    "l=sorted(l)\n",
    "print(l)"
   ]
  },
  {
   "cell_type": "code",
   "execution_count": 26,
   "metadata": {},
   "outputs": [
    {
     "name": "stdout",
     "output_type": "stream",
     "text": [
      "[-1, 1, 3, 4, 20]\n"
     ]
    }
   ],
   "source": [
    "l=[1,20,3,4,-1]\n",
    "\n",
    "# Inplace sort function\n",
    "l.sort()\n",
    "print(l)"
   ]
  },
  {
   "cell_type": "code",
   "execution_count": 27,
   "metadata": {},
   "outputs": [
    {
     "name": "stdout",
     "output_type": "stream",
     "text": [
      "[190, 45, 30, 23, 1, -1, -36]\n"
     ]
    }
   ],
   "source": [
    "# Descending sort\n",
    "\n",
    "l=[1,30,45,-1,-36,190,23]\n",
    "l.sort(reverse=True)\n",
    "print(l)"
   ]
  },
  {
   "cell_type": "code",
   "execution_count": 29,
   "metadata": {},
   "outputs": [
    {
     "name": "stdout",
     "output_type": "stream",
     "text": [
      "1 2 3 4 3 3 3 3 \n",
      "[1, 4, 9, 16, 9, 9, 9, 9]\n"
     ]
    }
   ],
   "source": [
    "# List comprehension\n",
    "\n",
    "l=[int(no)*int(no) for no in input().split()]\n",
    "print(l)"
   ]
  },
  {
   "cell_type": "code",
   "execution_count": 30,
   "metadata": {},
   "outputs": [
    {
     "name": "stdout",
     "output_type": "stream",
     "text": [
      "5\n"
     ]
    }
   ],
   "source": [
    "print(l.count(9))"
   ]
  },
  {
   "cell_type": "markdown",
   "metadata": {},
   "source": [
    "# Sets\n",
    "-A Set is an unordered collection data type that is iterable, mutable, and has no duplicate elements. Python's set class represents the mathematical notion of a set.This is based on a data structure known as a hash table"
   ]
  },
  {
   "cell_type": "code",
   "execution_count": 32,
   "metadata": {},
   "outputs": [
    {
     "name": "stdout",
     "output_type": "stream",
     "text": [
      "set()\n",
      "<class 'set'>\n"
     ]
    }
   ],
   "source": [
    "adj=set()\n",
    "print(adj)\n",
    "print(type(adj))"
   ]
  },
  {
   "cell_type": "code",
   "execution_count": 45,
   "metadata": {},
   "outputs": [
    {
     "name": "stdout",
     "output_type": "stream",
     "text": [
      "{1, 2, 3, 4, 5, 6, 7, 8}\n",
      "{1, 2, 3, 4, 15}\n",
      "{1, 2, 3, 4, 15, 50}\n",
      "present\n"
     ]
    }
   ],
   "source": [
    "# Way 1\n",
    "adj={1,1,1,2,2,2,2,2,2,2,2,2,2,3,4,5,6,7,8}\n",
    "print(adj)\n",
    "\n",
    "\n",
    "# Way 2 using set construtor\n",
    "adj1=set([15,1,2,3,4,3,2,2,2,1,1,1,1,1])\n",
    "print(adj1)\n",
    "\n",
    "adj1.add(50)\n",
    "print(adj1)\n",
    "\n",
    "\n",
    "\n",
    "if 4 in adj1:\n",
    "    print(\"present\")\n",
    "else:\n",
    "    print(\"not present\")"
   ]
  },
  {
   "cell_type": "code",
   "execution_count": 34,
   "metadata": {},
   "outputs": [
    {
     "name": "stdout",
     "output_type": "stream",
     "text": [
      "{'Hitman', 'Avengers', 'IronMan'}\n"
     ]
    }
   ],
   "source": [
    "adj={\"Avengers\",\"IronMan\",'Hitman'}\n",
    "print(adj)"
   ]
  },
  {
   "cell_type": "code",
   "execution_count": 35,
   "metadata": {},
   "outputs": [
    {
     "name": "stdout",
     "output_type": "stream",
     "text": [
      "{'hulk', 'Hitman', 'Avengers', 'IronMan'}\n"
     ]
    }
   ],
   "source": [
    "adj.add(\"hulk\")\n",
    "print(adj)"
   ]
  },
  {
   "cell_type": "code",
   "execution_count": 41,
   "metadata": {},
   "outputs": [
    {
     "name": "stdout",
     "output_type": "stream",
     "text": [
      "{'Hitman', 'Avengers', 'IronMan'}\n"
     ]
    }
   ],
   "source": [
    "set1={\"Avengers\",\"IronMan\",'Hitman'}\n",
    "set2={\"Avengers\",\"IronMan\",'Hitman','Hulk2'}\n",
    "set2.intersection_update(set1)\n",
    "print(set2)"
   ]
  },
  {
   "cell_type": "code",
   "execution_count": 46,
   "metadata": {},
   "outputs": [
    {
     "name": "stdout",
     "output_type": "stream",
     "text": [
      "{1, 5, 6}\n"
     ]
    }
   ],
   "source": [
    "a1={1,2,3,4}\n",
    "a2={2,3,4,5,6}\n",
    "\n",
    "print(a1^a2)\n",
    "# elements which are in only one set not both"
   ]
  },
  {
   "cell_type": "markdown",
   "metadata": {},
   "source": [
    "# Dictonaries\n",
    "- A dictionary is a collection which is unordered, changeable and indexed. In Python dictionaries are written with curly brackets, and they have keys and values.\n",
    "- keys should be unique and keys are in random order like unordered_map in c++|"
   ]
  },
  {
   "cell_type": "code",
   "execution_count": 56,
   "metadata": {},
   "outputs": [
    {
     "name": "stdout",
     "output_type": "stream",
     "text": [
      "100\n",
      "{'mango': 100, 'apple': 80, 'guava': 60}\n",
      "{'mango': 100, 'apple': 80, 'guava': 60, 'grape': [10, 20]}\n",
      "{'mango': 100, 'apple': 80, 'guava': 60, 'grape': [10, 20], 'pine': {'small': 90, 'large': 150}}\n",
      "{'small': 90, 'large': 150}\n"
     ]
    }
   ],
   "source": [
    "d={\"mango\":100,'apple':80}\n",
    "print(d[\"mango\"])\n",
    "\n",
    "\n",
    "d[\"guava\"]=60\n",
    "print(d)\n",
    "\n",
    "\n",
    "# Values can also be in the form of list say we have two varities of grapes\n",
    "d[\"grape\"]=[10,20]\n",
    "print(d)\n",
    "\n",
    "\n",
    "# We can have a dictonary itself as value \n",
    "d['pine']={\"small\":90,\"large\":150}\n",
    "print(d)\n",
    "print(d['pine'])"
   ]
  },
  {
   "cell_type": "code",
   "execution_count": 57,
   "metadata": {},
   "outputs": [
    {
     "name": "stdout",
     "output_type": "stream",
     "text": [
      "dict_keys(['mango', 'apple', 'guava', 'grape', 'pine'])\n",
      "\n",
      "\n",
      "dict_values([100, 80, 60, [10, 20], {'small': 90, 'large': 150}])\n",
      "\n",
      "\n",
      "dict_items([('mango', 100), ('apple', 80), ('guava', 60), ('grape', [10, 20]), ('pine', {'small': 90, 'large': 150})])\n"
     ]
    }
   ],
   "source": [
    "print(d.keys())\n",
    "print('\\n')\n",
    "print(d.values())\n",
    "print('\\n')\n",
    "print(d.items())"
   ]
  },
  {
   "cell_type": "code",
   "execution_count": 58,
   "metadata": {},
   "outputs": [
    {
     "name": "stdout",
     "output_type": "stream",
     "text": [
      "100\n",
      "None\n"
     ]
    },
    {
     "ename": "KeyError",
     "evalue": "'aman'",
     "output_type": "error",
     "traceback": [
      "\u001b[0;31m---------------------------------------------------------------------------\u001b[0m",
      "\u001b[0;31mKeyError\u001b[0m                                  Traceback (most recent call last)",
      "\u001b[0;32m<ipython-input-58-f0edcb6ca871>\u001b[0m in \u001b[0;36m<module>\u001b[0;34m\u001b[0m\n\u001b[1;32m      3\u001b[0m \u001b[0mprint\u001b[0m\u001b[0;34m(\u001b[0m\u001b[0md\u001b[0m\u001b[0;34m.\u001b[0m\u001b[0mget\u001b[0m\u001b[0;34m(\u001b[0m\u001b[0;34m\"mango\"\u001b[0m\u001b[0;34m)\u001b[0m\u001b[0;34m)\u001b[0m\u001b[0;34m\u001b[0m\u001b[0;34m\u001b[0m\u001b[0m\n\u001b[1;32m      4\u001b[0m \u001b[0mprint\u001b[0m\u001b[0;34m(\u001b[0m\u001b[0md\u001b[0m\u001b[0;34m.\u001b[0m\u001b[0mget\u001b[0m\u001b[0;34m(\u001b[0m\u001b[0;34m\"aman\"\u001b[0m\u001b[0;34m)\u001b[0m\u001b[0;34m)\u001b[0m\u001b[0;34m\u001b[0m\u001b[0;34m\u001b[0m\u001b[0m\n\u001b[0;32m----> 5\u001b[0;31m \u001b[0mprint\u001b[0m\u001b[0;34m(\u001b[0m\u001b[0md\u001b[0m\u001b[0;34m[\u001b[0m\u001b[0;34m\"aman\"\u001b[0m\u001b[0;34m]\u001b[0m\u001b[0;34m)\u001b[0m\u001b[0;34m\u001b[0m\u001b[0;34m\u001b[0m\u001b[0m\n\u001b[0m",
      "\u001b[0;31mKeyError\u001b[0m: 'aman'"
     ]
    }
   ],
   "source": [
    "# get is advantageous over simple print as it simply print none instead of throwing error\n",
    "\n",
    "print(d.get(\"mango\"))\n",
    "print(d.get(\"aman\"))\n",
    "print(d[\"aman\"])"
   ]
  },
  {
   "cell_type": "code",
   "execution_count": 59,
   "metadata": {},
   "outputs": [
    {
     "name": "stdout",
     "output_type": "stream",
     "text": [
      "Price of mango is 100\n"
     ]
    }
   ],
   "source": [
    "if \"mango\" in d:\n",
    "    print(\"Price of mango is {}\".format(d[\"mango\"]))\n",
    "else:\n",
    "    print(\"does not exist\")"
   ]
  },
  {
   "cell_type": "code",
   "execution_count": 60,
   "metadata": {},
   "outputs": [
    {
     "name": "stdout",
     "output_type": "stream",
     "text": [
      "[('mango', 100), ('apple', 80), ('guava', 60), ('grape', [10, 20]), ('pine', {'small': 90, 'large': 150})]\n"
     ]
    }
   ],
   "source": [
    "# Converting dictonary to list\n",
    "\n",
    "l=list(d.items())\n",
    "print(l)"
   ]
  },
  {
   "cell_type": "code",
   "execution_count": 61,
   "metadata": {},
   "outputs": [
    {
     "name": "stdout",
     "output_type": "stream",
     "text": [
      "dict_items([('apple', 80), ('guava', 60), ('grape', [10, 20]), ('pine', {'small': 90, 'large': 150})])\n"
     ]
    }
   ],
   "source": [
    "# We can also delete a particular key\n",
    "del d[\"mango\"]\n",
    "print(d.items())"
   ]
  },
  {
   "cell_type": "code",
   "execution_count": 62,
   "metadata": {},
   "outputs": [
    {
     "name": "stdout",
     "output_type": "stream",
     "text": [
      "{'apple': 80, 'guava': 60, 'grape': [10, 20], 'pine': {'small': 90, 'large': 150}, 'strawberry': 95}\n"
     ]
    }
   ],
   "source": [
    "# Merging of two dictonaries\n",
    "\n",
    "d2={\"strawberry\":95}\n",
    "d.update(d2)\n",
    "print(d)"
   ]
  },
  {
   "cell_type": "code",
   "execution_count": 63,
   "metadata": {},
   "outputs": [
    {
     "name": "stdout",
     "output_type": "stream",
     "text": [
      "5\n",
      "0\n"
     ]
    }
   ],
   "source": [
    "# Finding the length of key value pairs\n",
    "print(len(d))\n",
    "d.clear()\n",
    "print(len(d))"
   ]
  },
  {
   "cell_type": "code",
   "execution_count": 64,
   "metadata": {},
   "outputs": [
    {
     "name": "stdout",
     "output_type": "stream",
     "text": [
      "{'apple': 100, 'mango': 120, 'guava': 200, 'banana': 130}\n",
      "<class 'dict'>\n"
     ]
    }
   ],
   "source": [
    "# Converting list to dictinories\n",
    "\n",
    "l1=['apple','mango','guava','banana']\n",
    "l2=[100,120,200,130]\n",
    "\n",
    "\n",
    "p=dict(zip(l1,l2))\n",
    "print(p)\n",
    "print(type(p))"
   ]
  },
  {
   "cell_type": "markdown",
   "metadata": {},
   "source": [
    "## Tupules\n",
    "- similar to list but immutable like strings used as they are faster while iteration and data is write protected"
   ]
  },
  {
   "cell_type": "code",
   "execution_count": 65,
   "metadata": {},
   "outputs": [
    {
     "name": "stdout",
     "output_type": "stream",
     "text": [
      "[5, 2, 3.4, 'aman']\n",
      "(5, 2, 3.4, 'aman')\n",
      "(5, 2, 3.4, 'aman', 1, 2, 3.4, 'aman')\n",
      "4\n"
     ]
    }
   ],
   "source": [
    "t=(1,2,3.4,\"aman\")\n",
    "\n",
    "# We can convert tuple to list and then modify it\n",
    "l=list(t)\n",
    "l[0]=5\n",
    "print(l)\n",
    "\n",
    "# again converting list to tuple\n",
    "t2=tuple(l)\n",
    "print(t2)\n",
    "\n",
    "\n",
    "print(t2+t)\n",
    "print(len(t))\n",
    "\n",
    "\n",
    "#print(max(t)) this will give error as nothing max in heterogenous value"
   ]
  },
  {
   "cell_type": "code",
   "execution_count": null,
   "metadata": {},
   "outputs": [],
   "source": []
  },
  {
   "cell_type": "code",
   "execution_count": null,
   "metadata": {},
   "outputs": [],
   "source": []
  },
  {
   "cell_type": "code",
   "execution_count": null,
   "metadata": {},
   "outputs": [],
   "source": []
  },
  {
   "cell_type": "code",
   "execution_count": null,
   "metadata": {},
   "outputs": [],
   "source": []
  },
  {
   "cell_type": "code",
   "execution_count": null,
   "metadata": {},
   "outputs": [],
   "source": []
  },
  {
   "cell_type": "code",
   "execution_count": null,
   "metadata": {},
   "outputs": [],
   "source": []
  },
  {
   "cell_type": "code",
   "execution_count": null,
   "metadata": {},
   "outputs": [],
   "source": []
  },
  {
   "cell_type": "code",
   "execution_count": null,
   "metadata": {},
   "outputs": [],
   "source": []
  }
 ],
 "metadata": {
  "kernelspec": {
   "display_name": "Python 3",
   "language": "python",
   "name": "python3"
  },
  "language_info": {
   "codemirror_mode": {
    "name": "ipython",
    "version": 3
   },
   "file_extension": ".py",
   "mimetype": "text/x-python",
   "name": "python",
   "nbconvert_exporter": "python",
   "pygments_lexer": "ipython3",
   "version": "3.7.3"
  }
 },
 "nbformat": 4,
 "nbformat_minor": 2
}
