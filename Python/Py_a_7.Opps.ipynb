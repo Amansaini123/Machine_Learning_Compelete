{
 "cells": [
  {
   "cell_type": "markdown",
   "metadata": {},
   "source": [
    "# Sets Data_structure"
   ]
  },
  {
   "cell_type": "markdown",
   "metadata": {},
   "source": [
    "### A Set is an unordered collection data type that is iterable, mutable and has no duplicate elements. The major advantage of using a set, as opposed to a list, is that it has a highly optimized method for checking whether a specific element is contained in the set. This is based on a data structure known as a hash table. Since sets are unordered, we cannot access items using indexes like we do in lists."
   ]
  },
  {
   "cell_type": "code",
   "execution_count": 1,
   "metadata": {},
   "outputs": [
    {
     "name": "stdout",
     "output_type": "stream",
     "text": [
      "{'c', 'b', 'a'}\n",
      "{'c', 'b', 'd', 'a'}\n"
     ]
    }
   ],
   "source": [
    "myset=set([\"a\",\"b\",\"c\"])\n",
    "print(myset)\n",
    "\n",
    "myset.add(\"d\")\n",
    "print(myset)"
   ]
  },
  {
   "cell_type": "markdown",
   "metadata": {},
   "source": [
    "#### Union is also done using |"
   ]
  },
  {
   "cell_type": "code",
   "execution_count": 3,
   "metadata": {},
   "outputs": [
    {
     "name": "stdout",
     "output_type": "stream",
     "text": [
      "{'V1', 'P2', 'P3', 'P1', 'V2'}\n",
      "{'D1', 'P2', 'P3', 'P1', 'D2'}\n"
     ]
    }
   ],
   "source": [
    "people = {\"P1\", \"P2\", \"P3\"} \n",
    "vampires = {\"V1\", \"V2\"} \n",
    "dracula = {\"D1\", \"D2\"} \n",
    "\n",
    "population = people.union(vampires) \n",
    "print(population) \n",
    "\n",
    "population = people|dracula \n",
    "print(population) "
   ]
  },
  {
   "cell_type": "markdown",
   "metadata": {},
   "source": [
    "### Intersection using &"
   ]
  },
  {
   "cell_type": "code",
   "execution_count": 5,
   "metadata": {},
   "outputs": [
    {
     "name": "stdout",
     "output_type": "stream",
     "text": [
      "{3, 4}\n",
      "{3, 4}\n"
     ]
    }
   ],
   "source": [
    "set1 = set() \n",
    "set2 = set() \n",
    "  \n",
    "for i in range(5): \n",
    "    set1.add(i) \n",
    "  \n",
    "for i in range(3,9): \n",
    "    set2.add(i) \n",
    "\n",
    "set3 = set1.intersection(set2)\n",
    "print(set3)\n",
    "\n",
    "set4 = set1 & set2\n",
    "print(set4)"
   ]
  },
  {
   "cell_type": "code",
   "execution_count": 6,
   "metadata": {},
   "outputs": [
    {
     "name": "stdout",
     "output_type": "stream",
     "text": [
      "{1, 2, 3, 4, 5, 6}\n",
      "set()\n"
     ]
    }
   ],
   "source": [
    "set1 = {1,2,3,4,5,6} \n",
    "print(set1) \n",
    "set1.clear() \n",
    "print(set1) "
   ]
  },
  {
   "cell_type": "markdown",
   "metadata": {},
   "source": [
    "## Heap Data structure in python"
   ]
  },
  {
   "cell_type": "markdown",
   "metadata": {},
   "source": [
    "### heapify --> This function is used to convert the iterable into a heap data structure."
   ]
  },
  {
   "cell_type": "code",
   "execution_count": 13,
   "metadata": {},
   "outputs": [
    {
     "name": "stdout",
     "output_type": "stream",
     "text": [
      "[1, 1, 2, 3, 7, 9, 3, 5, 4]\n",
      "[-1, 1, 2, 3, 1, 9, 3, 5, 4, 7]\n",
      "-1\n",
      "[1, 1, 2, 3, 7, 9, 3, 5, 4]\n",
      "[1, 1, 2]\n",
      "[9, 7, 5]\n"
     ]
    }
   ],
   "source": [
    "import heapq\n",
    "l1=[1,5,3,4,7,9,2,3,1]\n",
    "\n",
    "heapq.heapify(l1)\n",
    "print(list(l1))\n",
    "\n",
    "heapq.heappush(l1,-1)\n",
    "print(l1)\n",
    "\n",
    "print(heapq.heappop(l1))\n",
    "print(l1)\n",
    "\n",
    "print(heapq.nsmallest(3,l1))\n",
    "print(heapq.nlargest(3,l1))"
   ]
  },
  {
   "cell_type": "markdown",
   "metadata": {},
   "source": [
    "## Modules in python \n"
   ]
  },
  {
   "cell_type": "markdown",
   "metadata": {},
   "source": [
    "### To increase the reusability of code we can save the file with .py extension and can call it later example\n",
    "### person 1 file will be saved in mymodule.py"
   ]
  },
  {
   "cell_type": "code",
   "execution_count": 16,
   "metadata": {},
   "outputs": [],
   "source": [
    "person1 = {\n",
    "  \"name\": \"John\",\n",
    "  \"age\": 36,\n",
    "  \"country\": \"Norway\"\n",
    "}\n",
    "\n",
    "# import mymodule\n",
    "# a = mymodule.person1[\"age\"]\n",
    "# print(a)"
   ]
  },
  {
   "cell_type": "markdown",
   "metadata": {},
   "source": [
    "### Some in built modules are also present "
   ]
  },
  {
   "cell_type": "code",
   "execution_count": 18,
   "metadata": {},
   "outputs": [
    {
     "name": "stdout",
     "output_type": "stream",
     "text": [
      "120\n",
      "7\n",
      "6\n",
      "4.0\n"
     ]
    }
   ],
   "source": [
    "import math\n",
    "print(math.factorial(5))\n",
    "print(math.floor(15/2))\n",
    "print(math.gcd(12,6))\n",
    "print(math.log(16,2))"
   ]
  },
  {
   "cell_type": "code",
   "execution_count": 19,
   "metadata": {},
   "outputs": [
    {
     "name": "stdout",
     "output_type": "stream",
     "text": [
      "120\n"
     ]
    }
   ],
   "source": [
    "from math import factorial \n",
    "print(factorial(5))"
   ]
  },
  {
   "cell_type": "code",
   "execution_count": 20,
   "metadata": {},
   "outputs": [
    {
     "name": "stdout",
     "output_type": "stream",
     "text": [
      "6\n"
     ]
    }
   ],
   "source": [
    "from math import factorial as fac\n",
    "print(fac(3))"
   ]
  },
  {
   "cell_type": "markdown",
   "metadata": {},
   "source": [
    "## Constants"
   ]
  },
  {
   "cell_type": "code",
   "execution_count": 23,
   "metadata": {},
   "outputs": [
    {
     "name": "stdout",
     "output_type": "stream",
     "text": [
      "3.141592653589793\n",
      "inf\n",
      "-inf\n"
     ]
    }
   ],
   "source": [
    "print(math.pi)\n",
    "print(math.inf)\n",
    "print(-math.inf)"
   ]
  },
  {
   "cell_type": "markdown",
   "metadata": {},
   "source": [
    "## Classes and Objects"
   ]
  },
  {
   "cell_type": "markdown",
   "metadata": {},
   "source": [
    "## self represent the object of that class "
   ]
  },
  {
   "cell_type": "code",
   "execution_count": 30,
   "metadata": {},
   "outputs": [
    {
     "name": "stdout",
     "output_type": "stream",
     "text": [
      "22\n",
      "100\n",
      "30\n",
      "30\n",
      "yoyo\n"
     ]
    }
   ],
   "source": [
    "class computer:\n",
    "    def __init__(self):\n",
    "        self.name=\"aman\"\n",
    "        self.age=22\n",
    "    \n",
    "    def update(self):\n",
    "        self.age=30\n",
    "        \n",
    "    def compare(self,c2):\n",
    "        if self.age==c2.age:\n",
    "            return True\n",
    "        else:\n",
    "            return False\n",
    "        \n",
    "    \n",
    "c1=computer()\n",
    "c2=computer()\n",
    "\n",
    "c2.age=100\n",
    "\n",
    "print(c1.age)\n",
    "print(c2.age)\n",
    "\n",
    "\n",
    "c1.update()\n",
    "print(c1.age)\n",
    "\n",
    "# i.e when we have called the update function via object c1, so self points to the object of c1 ,\n",
    "# c1 is self now i.e self will point to the c1 i.e self is a pointer which will point to objects\n",
    "\n",
    "\n",
    "c2.update()\n",
    "print(c2.age)\n",
    "\n",
    "\n",
    "\n",
    "\n",
    "if c1.compare(c2):\n",
    "    print(\"yoyo\")\n",
    "\n",
    "# Now c1 will be self and c2 will be the argument"
   ]
  },
  {
   "cell_type": "code",
   "execution_count": 34,
   "metadata": {},
   "outputs": [
    {
     "name": "stdout",
     "output_type": "stream",
     "text": [
      "Helloyoyo\n",
      "aman\n",
      "Indian\n",
      "DTU\n",
      "Helloabab\n",
      "xyz\n",
      "Indian\n",
      "IIIT\n"
     ]
    }
   ],
   "source": [
    "class person():\n",
    "    nationality=\"Indian\"\n",
    "    \n",
    "    def __init__(self,pname,clg):\n",
    "        self.name=pname\n",
    "        self.college=clg\n",
    "        \n",
    "    def sayhi(self,name):\n",
    "        print(\"Hello\"+name)\n",
    "    \n",
    "    def intro(self):\n",
    "        print(self.name)\n",
    "        print(self.nationality)\n",
    "        print(self.college)\n",
    "    \n",
    "p=person(\"aman\",\"DTU\")\n",
    "p.sayhi(\"yoyo\")\n",
    "p.intro()\n",
    "\n",
    "a=person(\"xyz\",\"IIIT\")\n",
    "a.sayhi(\"abab\")\n",
    "a.intro()\n",
    "\n",
    "\n",
    "# Nationality is a class variable so all are indians"
   ]
  },
  {
   "cell_type": "markdown",
   "metadata": {},
   "source": [
    "### By default all the functions and constructors are public if we want to make them private we have to proced the by __funtionname "
   ]
  },
  {
   "cell_type": "code",
   "execution_count": 12,
   "metadata": {},
   "outputs": [
    {
     "name": "stdout",
     "output_type": "stream",
     "text": [
      "german\n",
      "['highjump', 'Rollover']\n",
      "Dog is doing secret activity german\n",
      "golden\n",
      "[]\n",
      "Dog is doing secret activity golden\n"
     ]
    }
   ],
   "source": [
    "class dog:\n",
    "    color=\"brown\"\n",
    "    \n",
    "    def __init__(self,breed):\n",
    "        \"\"\"This is a comment\"\"\"\n",
    "        self.activities=[]\n",
    "        self.breed=breed\n",
    "    \n",
    "    \n",
    "    def addactivity(self,act):\n",
    "        self.activities.append(act)\n",
    "        \n",
    "    \n",
    "    def __secretactivity(self):\n",
    "        print(\"Dog is doing secret activity\",self.breed)\n",
    "    \n",
    "    def doactivity(self):\n",
    "        print(self.breed)\n",
    "        print(self.activities)\n",
    "        \"\"\" i.e we can call private function inside the other the function not directly outside\"\"\"\n",
    "        self.__secretactivity()\n",
    "    \n",
    "d1=dog(\"german\")\n",
    "d2=dog(\"golden\")\n",
    "    \n",
    "d1.addactivity(\"highjump\")\n",
    "d1.addactivity(\"Rollover\")\n",
    "    \n",
    "d1.doactivity()\n",
    "d2.doactivity()\n",
    "    \n",
    "        \n",
    "    \n",
    "    "
   ]
  },
  {
   "cell_type": "markdown",
   "metadata": {},
   "source": [
    "## Inheritance in python"
   ]
  },
  {
   "cell_type": "code",
   "execution_count": 6,
   "metadata": {},
   "outputs": [
    {
     "name": "stdout",
     "output_type": "stream",
     "text": [
      "init school aman\n",
      "Init_Salary:aman\n",
      "Name: aman \n",
      " Age: 30\n",
      "45000\n",
      "init school mu\n",
      "mu\n",
      "Name: mu \n",
      " Age: 20\n",
      "15000\n"
     ]
    }
   ],
   "source": [
    "class schoolmember:\n",
    "    def __init__(self,name,age):\n",
    "        self.name=name\n",
    "        self.age=age\n",
    "        print(\"init school %s\"%self.name)\n",
    "        \n",
    "    def intro(self):\n",
    "        print(\"Name: %s \\n Age: %d\"%(self.name,self.age))\n",
    "    \n",
    "    \n",
    "    \n",
    "class Teacher(schoolmember):\n",
    "    def __init__(self,name,age,salary):\n",
    "        schoolmember.__init__(self,name,age)\n",
    "        self.salary=salary\n",
    "        print(\"Init_Salary:%s\"%self.name)\n",
    "        \n",
    "    def Introduce(self):\n",
    "        schoolmember.intro(self)\n",
    "        print(self.salary)\n",
    "    \n",
    "    \n",
    "class student(schoolmember):\n",
    "    \"\"\" Represent a school student\"\"\"\n",
    "    def __init__(self,name,age,marks):\n",
    "        schoolmember.__init__(self,name,age)\n",
    "        self.marks=marks\n",
    "        print(self.name)\n",
    "        \n",
    "    def intro(self):\n",
    "        schoolmember.intro(self)\n",
    "        print(self.marks)\n",
    "\n",
    "t=Teacher(\"aman\",30,45000)\n",
    "t.Introduce()\n",
    "s=student(\"mu\",20,15000)\n",
    "s.intro()\n",
    "            "
   ]
  },
  {
   "cell_type": "markdown",
   "metadata": {},
   "source": [
    "# Exception_Handling_In_Python\n",
    "### Invalid input, File is missing or divide by 0"
   ]
  },
  {
   "cell_type": "code",
   "execution_count": 11,
   "metadata": {},
   "outputs": [
    {
     "name": "stdout",
     "output_type": "stream",
     "text": [
      "nameamanas\n",
      "Try executed\n",
      "This block will always exceute\n"
     ]
    }
   ],
   "source": [
    "try:\n",
    "    a=input(\"name\")\n",
    "    if(len(a)<5):\n",
    "        raise Exception\n",
    "\n",
    "            \n",
    "except FileNotFoundError:\n",
    "    print(\"file doesnot exist please reload\")\n",
    "\n",
    "except NameError:\n",
    "    print(\"not defined\")\n",
    "\n",
    "except Exception:\n",
    "    print(\"something went wrong\")\n",
    "\n",
    "else:\n",
    "    print(\"Try executed\")\n",
    "\n",
    "finally:\n",
    "    print(\"This block will always exceute\")"
   ]
  },
  {
   "cell_type": "markdown",
   "metadata": {},
   "source": [
    "## Object-->     Instance\n",
    "## Data    -->    attribute\n",
    "## Functions-->methods "
   ]
  },
  {
   "cell_type": "code",
   "execution_count": 15,
   "metadata": {},
   "outputs": [
    {
     "name": "stdout",
     "output_type": "stream",
     "text": [
      "<class 'int'>\n"
     ]
    },
    {
     "data": {
      "text/plain": [
       "4"
      ]
     },
     "execution_count": 15,
     "metadata": {},
     "output_type": "execute_result"
    }
   ],
   "source": [
    "x=10\n",
    "print(type(x))\n",
    "x.bit_length()\n",
    "\n",
    "# x is now a object of class integer i.e every thing in python is object so integer class has function name bitlength"
   ]
  },
  {
   "cell_type": "code",
   "execution_count": 19,
   "metadata": {},
   "outputs": [
    {
     "name": "stdout",
     "output_type": "stream",
     "text": [
      "99 100\n",
      "10 100\n"
     ]
    }
   ],
   "source": [
    "class car:\n",
    "    \"\"\" This is a class variable\"\"\"\n",
    "    wheel=4\n",
    "    \n",
    "    def __init__(self):\n",
    "        \"\"\" These are instances variable \"\"\"\n",
    "        self.mil=10\n",
    "        self.com=\"BMW\"\n",
    "    \n",
    "c1= car()\n",
    "c2= car()\n",
    "\n",
    "\n",
    "# This is how we change the instances variable\n",
    "c1.mil=99\n",
    "\n",
    "# For changing class variable we use the class name not object name\n",
    "car.wheel=100\n",
    "\n",
    "\n",
    "print(c1.mil,c1.wheel)\n",
    "\n",
    "\n",
    "# We can class instances using class name not the object name\n",
    "print(c2.mil,car.wheel)\n"
   ]
  },
  {
   "cell_type": "markdown",
   "metadata": {},
   "source": [
    "### Instance methods or Instance variable means that they belong to a particular object i.e they are specific to their instances \n",
    "\n",
    "\n",
    "### Whenever we work with instance varible we use the keyword self and whenever with class we use the keyword cls and while defining a class we use decorator i.e @ classmethod and for static function we use @staticmethod"
   ]
  },
  {
   "cell_type": "code",
   "execution_count": 25,
   "metadata": {},
   "outputs": [
    {
     "name": "stdout",
     "output_type": "stream",
     "text": [
      "2.0\n",
      "\n",
      "DTU\n",
      "This is a stactic function\n"
     ]
    }
   ],
   "source": [
    "class student:\n",
    "    school=\"DTU\"\n",
    "    \n",
    "    def __init__(self,m1,m2,m3):\n",
    "        self.m1=m1\n",
    "        self.m2=m2\n",
    "        self.m3=m3\n",
    "        \n",
    "        \n",
    "    def avg(self):\n",
    "        return (self.m1+self.m2+self.m3)/3\n",
    "    \n",
    "    \n",
    "    @classmethod\n",
    "    def get_col(cls):\n",
    "        return cls.school\n",
    "    \n",
    "    \n",
    "    \n",
    "    \"\"\" Here info is neither a class function as no cls nor it is a instance function as no self\"\"\"\n",
    "    \"\"\" Hence it is a static function\"\"\"\n",
    "    \"\"\" This method has nothing to do with class or instances variable\"\"\"\n",
    "    \n",
    "    @staticmethod\n",
    "    def info():\n",
    "        print(\"This is a stactic function\")\n",
    "        \n",
    "        \n",
    "    \n",
    "    \n",
    "    \n",
    "s1=student(1,2,3)\n",
    "print(s1.avg())\n",
    "print()\n",
    "\n",
    "\n",
    "print(student.get_col())\n",
    "student.info()\n"
   ]
  },
  {
   "cell_type": "markdown",
   "metadata": {},
   "source": [
    "### Class inside another class"
   ]
  },
  {
   "cell_type": "code",
   "execution_count": 27,
   "metadata": {},
   "outputs": [
    {
     "name": "stdout",
     "output_type": "stream",
     "text": [
      "aman 46\n",
      "apple I5 8\n"
     ]
    }
   ],
   "source": [
    "class student:\n",
    "    def __init__(self,name,rollno):\n",
    "        self.name=name\n",
    "        self.rollno=rollno\n",
    "        self.lap=self.laptop()\n",
    "        \n",
    "    \n",
    "    def show(self):\n",
    "        print(self.name,self.rollno)\n",
    "        self.lap.show()\n",
    "        \n",
    "        \n",
    "    class laptop:\n",
    "        def __init__(self):\n",
    "            self.brand=\"apple\"\n",
    "            self.ram=8\n",
    "            self.cpu=\"I5\"\n",
    "            \n",
    "        def show(self):\n",
    "            print(self.brand,self.cpu,self.ram)\n",
    "            \n",
    "            \n",
    "\n",
    "s1=student(\"aman\",46)\n",
    "s1.show()\n",
    "        "
   ]
  },
  {
   "cell_type": "markdown",
   "metadata": {},
   "source": [
    "## Inheritance\n"
   ]
  },
  {
   "cell_type": "code",
   "execution_count": 30,
   "metadata": {},
   "outputs": [
    {
     "name": "stdout",
     "output_type": "stream",
     "text": [
      "one\n",
      "three\n",
      "one\n",
      "two\n",
      "three\n",
      "five\n"
     ]
    }
   ],
   "source": [
    "class A:\n",
    "    def show1(self):\n",
    "        print(\"one\")\n",
    "    def show2(self):\n",
    "        print(\"two\")\n",
    "\n",
    "\n",
    "        \n",
    "\"\"\" B is now the children class of A and have all the features of A as well as of its own\"\"\"     \n",
    "\"\"\" A is now known as superclass and B is known as subclass\"\"\"\n",
    "\n",
    "class B(A):\n",
    "    def show3(self):\n",
    "        print(\"three\")\n",
    "    def show4(self):\n",
    "        print(\"four\")\n",
    "        \n",
    "class C(B):\n",
    "    def show5(self):\n",
    "        print('five')\n",
    "        \n",
    "        \n",
    "b1=B()\n",
    "b1.show1()\n",
    "b1.show3()\n",
    "\n",
    "\n",
    "\n",
    "c1=C()\n",
    "c1.show1()\n",
    "c1.show2()\n",
    "c1.show3()\n",
    "c1.show5()"
   ]
  },
  {
   "cell_type": "markdown",
   "metadata": {},
   "source": [
    "### Now say  B is not inheriting from class A but we want C to inherit from both A and B \n",
    "### This is the case of ultiple inheritance not multilevel"
   ]
  },
  {
   "cell_type": "code",
   "execution_count": null,
   "metadata": {},
   "outputs": [],
   "source": [
    "class A:\n",
    "    def show1(self):\n",
    "        print(\"one\")\n",
    "    def show2(self):\n",
    "        print(\"two\")\n",
    "\n",
    "\n",
    "        \n",
    "\"\"\" B is now the children class of A and have all the features of A as well as of its own\"\"\"     \n",
    "\"\"\" A is now known as superclass and B is known as subclass\"\"\"\n",
    "\n",
    "class B:\n",
    "    def show3(self):\n",
    "        print(\"three\")\n",
    "    def show4(self):\n",
    "        print(\"four\")\n",
    "        \n",
    "        \n",
    "        \n",
    "class C(B,A):\n",
    "    def show5(self):\n",
    "        print('five')\n",
    "        \n",
    "\n",
    "        "
   ]
  },
  {
   "cell_type": "code",
   "execution_count": 32,
   "metadata": {},
   "outputs": [
    {
     "name": "stdout",
     "output_type": "stream",
     "text": [
      "init of A\n"
     ]
    }
   ],
   "source": [
    "class A:\n",
    "    def __init__(self):\n",
    "        print(\"init of A\")\n",
    "    def show1(self):\n",
    "        print(\"one\")  \n",
    "    def show2(self):\n",
    "        print(\"two\")\n",
    "        \n",
    "        \n",
    "class B(A):\n",
    "    def show3(self):\n",
    "        print(\"three\")\n",
    "    def show4(self):\n",
    "        print(\"four\")\n",
    "\n",
    "\"\"\" Constructor is called as soon as object is created\"\"\"\n",
    "\"\"\"Notice here the subclass is calling the constructor os parent class also\"\"\"\n",
    "\"\"\" But this is because B dont have its own init if B would have its own init then that would have been called\"\"\"\n",
    "\n",
    "a1=B()"
   ]
  },
  {
   "cell_type": "markdown",
   "metadata": {},
   "source": [
    "### To access all the features of parent class we use the keyword \"super\""
   ]
  },
  {
   "cell_type": "code",
   "execution_count": 34,
   "metadata": {},
   "outputs": [
    {
     "name": "stdout",
     "output_type": "stream",
     "text": [
      "init of A\n",
      "init of B\n"
     ]
    }
   ],
   "source": [
    "class A:\n",
    "    def __init__(self):\n",
    "        print(\"init of A\")\n",
    "    def show1(self):\n",
    "        print(\"one\")  \n",
    "    def show2(self):\n",
    "        print(\"two\")\n",
    "        \n",
    "        \n",
    "class B(A):\n",
    "    def __init__(self):\n",
    "        super().__init__()\n",
    "        print(\"init of B\")\n",
    "    def show3(self):\n",
    "        print(\"three\")\n",
    "    def show4(self):\n",
    "        print(\"four\")\n",
    "        \n",
    "a1=B()"
   ]
  },
  {
   "cell_type": "markdown",
   "metadata": {},
   "source": [
    "## In case of multiple inheritance we go from the order left to right know as method resoluton order i.e(MRO)"
   ]
  },
  {
   "cell_type": "code",
   "execution_count": 46,
   "metadata": {},
   "outputs": [
    {
     "name": "stdout",
     "output_type": "stream",
     "text": [
      "init of A\n",
      "init of C\n"
     ]
    },
    {
     "data": {
      "text/plain": [
       "' i.e C has two parent class A and B both have init of their own but here init of A i.e called as it goes from \\nleft to right of ordering i.e C(A,B) if we would have written C(B,A) then there will be a differnet sceario'"
      ]
     },
     "execution_count": 46,
     "metadata": {},
     "output_type": "execute_result"
    }
   ],
   "source": [
    "class A:\n",
    "    def __init__(self):\n",
    "        print(\"init of A\")\n",
    "    def show1(self):\n",
    "        print(\"one\")  \n",
    "    def show2(self):\n",
    "        print(\"two\")\n",
    "        \n",
    "        \n",
    "class B:\n",
    "    def __init__(self):\n",
    "        print(\"init of B\")\n",
    "    def show3(self):\n",
    "        print(\"three\")\n",
    "    def show4(self):\n",
    "        print(\"four\")\n",
    "        \n",
    "        \n",
    "        \n",
    "class C(A,B):\n",
    "    def __init__(self):\n",
    "        super().__init__()\n",
    "        print('init of C')\n",
    "    def show5(self):\n",
    "        print('five')\n",
    "        \n",
    "        \n",
    "a1=C()\n",
    "\n",
    "\n",
    "\"\"\" i.e C has two parent class A and B both have init of their own but here init of A i.e called as it goes from \n",
    "left to right of ordering i.e C(A,B) if we would have written C(B,A) then there will be a differnet sceario\"\"\""
   ]
  },
  {
   "cell_type": "markdown",
   "metadata": {},
   "source": [
    "## Itertors in python"
   ]
  },
  {
   "cell_type": "code",
   "execution_count": 53,
   "metadata": {},
   "outputs": [
    {
     "name": "stdout",
     "output_type": "stream",
     "text": [
      "1\n",
      "2\n"
     ]
    },
    {
     "data": {
      "text/plain": [
       "3"
      ]
     },
     "execution_count": 53,
     "metadata": {},
     "output_type": "execute_result"
    }
   ],
   "source": [
    "nums=[1,2,3]\n",
    "itr=iter(nums)\n",
    "print(next(itr))\n",
    "print(next(itr))\n",
    "\n",
    "\n",
    "\"\"\" another Syntax\"\"\"\n",
    "\"\"\" Iterator preserves the last value and will automatically give the next value\"\"\"\n",
    "itr.__next__()"
   ]
  },
  {
   "cell_type": "markdown",
   "metadata": {},
   "source": [
    "## Generators in python"
   ]
  },
  {
   "cell_type": "code",
   "execution_count": null,
   "metadata": {},
   "outputs": [],
   "source": []
  }
 ],
 "metadata": {
  "kernelspec": {
   "display_name": "Python 3",
   "language": "python",
   "name": "python3"
  },
  "language_info": {
   "codemirror_mode": {
    "name": "ipython",
    "version": 3
   },
   "file_extension": ".py",
   "mimetype": "text/x-python",
   "name": "python",
   "nbconvert_exporter": "python",
   "pygments_lexer": "ipython3",
   "version": "3.7.3"
  }
 },
 "nbformat": 4,
 "nbformat_minor": 2
}
