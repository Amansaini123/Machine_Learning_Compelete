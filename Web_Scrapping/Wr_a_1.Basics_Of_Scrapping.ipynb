{
 "cells": [
  {
   "cell_type": "code",
   "execution_count": 1,
   "metadata": {},
   "outputs": [],
   "source": [
    "# !pip install requests\n",
    "# !pip install html5lib\n",
    "# !pip install bs4"
   ]
  },
  {
   "cell_type": "code",
   "execution_count": 2,
   "metadata": {},
   "outputs": [
    {
     "name": "stdout",
     "output_type": "stream",
     "text": [
      "enter the urlhttps://codechef.com\n",
      "<h1 class=\"left\">\n",
      "<a href=\"/\" title=\"\"><img alt=\"CodeChef is a non-commercial competitive programming community\" id=\"logo\" src=\"/sites/all/themes/abessive/logo.svg\"/><span></span></a>\n",
      "</h1>\n"
     ]
    }
   ],
   "source": [
    "import requests\n",
    "import bs4\n",
    "\n",
    "url=input(\"enter the url\")\n",
    "response=requests.get(url)\n",
    "\n",
    "bs=bs4.BeautifulSoup(response.text,\"html.parser\")\n",
    "print(bs.h1)"
   ]
  },
  {
   "cell_type": "code",
   "execution_count": 3,
   "metadata": {},
   "outputs": [],
   "source": [
    "new_text=bs.prettify()\n",
    "# print(new_text)\n",
    "# This will print complete html in a complete beautified format\n"
   ]
  },
  {
   "cell_type": "code",
   "execution_count": 4,
   "metadata": {},
   "outputs": [
    {
     "name": "stdout",
     "output_type": "stream",
     "text": [
      "3\n"
     ]
    }
   ],
   "source": [
    "# If a file is not present it will create a file and then write so use w+ not w\n",
    "\n",
    "file_name=\"web_scrape.html\"\n",
    "with open(file_name,\"w+\") as f:\n",
    "    f.write(new_text)\n",
    "\n",
    "all_img=bs.find_all('img')\n",
    "all_anc=bs.find_all('a')\n",
    "\n",
    "no_of_img=len(all_img)\n",
    "print(no_of_img)"
   ]
  },
  {
   "cell_type": "code",
   "execution_count": 5,
   "metadata": {},
   "outputs": [],
   "source": [
    "html_doc = \"\"\"\n",
    "<html><head><title>The Dormouse's story</title></head>\n",
    "<body>\n",
    "<p class=\"title\"><b>The Dormouse's story</b></p>\n",
    "\n",
    "<p class=\"story\">Once upon a time there were three little sisters; and their names were\n",
    "<a href=\"http://example.com/elsie\" class=\"sister\" id=\"link1\">Elsie</a>,\n",
    "<a href=\"http://example.com/lacie\" class=\"sister\" id=\"link2\">Lacie</a> and\n",
    "<a href=\"http://example.com/tillie\" class=\"sister\" id=\"link3\">Tillie</a>;\n",
    "and they lived at the bottom of a well.</p>\n",
    "\n",
    "<p class=\"story\">...</p>\n",
    "\"\"\""
   ]
  },
  {
   "cell_type": "code",
   "execution_count": 6,
   "metadata": {},
   "outputs": [
    {
     "name": "stdout",
     "output_type": "stream",
     "text": [
      "<html>\n",
      " <head>\n",
      "  <title>\n",
      "   The Dormouse's story\n",
      "  </title>\n",
      " </head>\n",
      " <body>\n",
      "  <p class=\"title\">\n",
      "   <b>\n",
      "    The Dormouse's story\n",
      "   </b>\n",
      "  </p>\n",
      "  <p class=\"story\">\n",
      "   Once upon a time there were three little sisters; and their names were\n",
      "   <a class=\"sister\" href=\"http://example.com/elsie\" id=\"link1\">\n",
      "    Elsie\n",
      "   </a>\n",
      "   ,\n",
      "   <a class=\"sister\" href=\"http://example.com/lacie\" id=\"link2\">\n",
      "    Lacie\n",
      "   </a>\n",
      "   and\n",
      "   <a class=\"sister\" href=\"http://example.com/tillie\" id=\"link3\">\n",
      "    Tillie\n",
      "   </a>\n",
      "   ;\n",
      "and they lived at the bottom of a well.\n",
      "  </p>\n",
      "  <p class=\"story\">\n",
      "   ...\n",
      "  </p>\n",
      " </body>\n",
      "</html>\n"
     ]
    }
   ],
   "source": [
    "from bs4 import BeautifulSoup\n",
    "soup = BeautifulSoup(html_doc, 'html.parser')\n",
    "\n",
    "print(soup.prettify())"
   ]
  },
  {
   "cell_type": "code",
   "execution_count": 7,
   "metadata": {},
   "outputs": [
    {
     "name": "stdout",
     "output_type": "stream",
     "text": [
      "<title>The Dormouse's story</title>\n"
     ]
    }
   ],
   "source": [
    "print(soup.title)"
   ]
  },
  {
   "cell_type": "code",
   "execution_count": 8,
   "metadata": {},
   "outputs": [
    {
     "name": "stdout",
     "output_type": "stream",
     "text": [
      "title\n"
     ]
    }
   ],
   "source": [
    "print(soup.title.name)"
   ]
  },
  {
   "cell_type": "code",
   "execution_count": 9,
   "metadata": {},
   "outputs": [
    {
     "name": "stdout",
     "output_type": "stream",
     "text": [
      "The Dormouse's story\n"
     ]
    }
   ],
   "source": [
    "print(soup.title.string)"
   ]
  },
  {
   "cell_type": "code",
   "execution_count": 10,
   "metadata": {},
   "outputs": [
    {
     "data": {
      "text/plain": [
       "'head'"
      ]
     },
     "execution_count": 10,
     "metadata": {},
     "output_type": "execute_result"
    }
   ],
   "source": [
    "soup.title.parent.name"
   ]
  },
  {
   "cell_type": "code",
   "execution_count": 11,
   "metadata": {},
   "outputs": [
    {
     "data": {
      "text/plain": [
       "<p class=\"title\"><b>The Dormouse's story</b></p>"
      ]
     },
     "execution_count": 11,
     "metadata": {},
     "output_type": "execute_result"
    }
   ],
   "source": [
    "soup.p"
   ]
  },
  {
   "cell_type": "code",
   "execution_count": 12,
   "metadata": {},
   "outputs": [
    {
     "data": {
      "text/plain": [
       "['title']"
      ]
     },
     "execution_count": 12,
     "metadata": {},
     "output_type": "execute_result"
    }
   ],
   "source": [
    "soup.p['class']"
   ]
  },
  {
   "cell_type": "code",
   "execution_count": 13,
   "metadata": {},
   "outputs": [
    {
     "data": {
      "text/plain": [
       "[<a class=\"sister\" href=\"http://example.com/elsie\" id=\"link1\">Elsie</a>,\n",
       " <a class=\"sister\" href=\"http://example.com/lacie\" id=\"link2\">Lacie</a>,\n",
       " <a class=\"sister\" href=\"http://example.com/tillie\" id=\"link3\">Tillie</a>]"
      ]
     },
     "execution_count": 13,
     "metadata": {},
     "output_type": "execute_result"
    }
   ],
   "source": [
    "soup.find_all('a')"
   ]
  },
  {
   "cell_type": "code",
   "execution_count": 14,
   "metadata": {},
   "outputs": [
    {
     "name": "stdout",
     "output_type": "stream",
     "text": [
      "http://example.com/elsie\n",
      "http://example.com/lacie\n",
      "http://example.com/tillie\n"
     ]
    }
   ],
   "source": [
    "for link in soup.find_all('a'):\n",
    "    print(link.get('href'))"
   ]
  },
  {
   "cell_type": "markdown",
   "metadata": {},
   "source": [
    "# Scarpping a wikipedia page"
   ]
  },
  {
   "cell_type": "code",
   "execution_count": 22,
   "metadata": {},
   "outputs": [
    {
     "name": "stdout",
     "output_type": "stream",
     "text": [
      "<class 'http.client.HTTPResponse'>\n"
     ]
    }
   ],
   "source": [
    "import bs4\n",
    "from urllib.request import urlopen\n",
    "\n",
    "\n",
    "anroid_url=\"https://en.wikipedia.org/wiki/Android_version_history\"\n",
    "\n",
    "\n",
    "anroid_data=urlopen(anroid_url)\n",
    "print(type(anroid_data))\n",
    "\n",
    "\n",
    "anroid_html=anroid_data.read()\n",
    "# print(anroid_html)\n",
    "anroid_data.close()\n",
    "\n",
    "\n",
    "# It is a good practise to close the data"
   ]
  },
  {
   "cell_type": "code",
   "execution_count": 23,
   "metadata": {},
   "outputs": [
    {
     "name": "stdout",
     "output_type": "stream",
     "text": [
      "<class 'bs4.BeautifulSoup'>\n"
     ]
    }
   ],
   "source": [
    "from bs4 import BeautifulSoup as soup\n",
    "\n",
    "\n",
    "anroid_soup=soup(anroid_html,'html.parser')\n",
    "# print(anroid_soup)\n",
    "print(type(anroid_soup))"
   ]
  },
  {
   "cell_type": "code",
   "execution_count": 24,
   "metadata": {},
   "outputs": [],
   "source": [
    "# findAll will return the list of all the img say \n",
    "# Tag along with empty dictonary is passed\n",
    "\n",
    "\n",
    "list_of_img=anroid_soup.findAll('img',{})\n",
    "\n",
    "\n",
    "# for c in list_of_img:\n",
    "    # print(c)  \n",
    "    # print('\\n')"
   ]
  },
  {
   "cell_type": "markdown",
   "metadata": {},
   "source": [
    "## Inspect the specific table that you want to find and search for its class and id"
   ]
  },
  {
   "cell_type": "code",
   "execution_count": 27,
   "metadata": {},
   "outputs": [
    {
     "name": "stdout",
     "output_type": "stream",
     "text": [
      "31\n"
     ]
    }
   ],
   "source": [
    "# It is also possible that class have multiple names in that case 'class':'xyz abc'\n",
    "\n",
    "\n",
    "tables=anroid_soup.findAll('table',{'class':'wikitable'})\n",
    "print(len(tables))\n",
    "\n",
    "\n",
    "\n",
    "# Say we have 31 tables with class wikitable so get the first table in the list\n",
    "\n",
    "\n",
    "useful_table=tables[0]\n",
    "# print(useful_table)"
   ]
  },
  {
   "cell_type": "markdown",
   "metadata": {},
   "source": [
    "## Now we will clean the useful table "
   ]
  },
  {
   "cell_type": "code",
   "execution_count": 29,
   "metadata": {},
   "outputs": [
    {
     "name": "stdout",
     "output_type": "stream",
     "text": [
      "[<th>Code name\n",
      "</th>, <th>Version number(s)\n",
      "</th>, <th>Initial release date\n",
      "</th>, <th>API level\n",
      "</th>, <th>References\n",
      "</th>]\n",
      "5\n"
     ]
    }
   ],
   "source": [
    "# Find all the coloumn names\n",
    "# Sari rows 'tr' hoti hai jisme heading hoti hai vo 'th' column and baki sare 'td' coloumn\n",
    "\n",
    "\n",
    "headers=useful_table.findAll('th')\n",
    "print(headers)\n",
    "print(len(headers))"
   ]
  },
  {
   "cell_type": "code",
   "execution_count": 31,
   "metadata": {},
   "outputs": [
    {
     "name": "stdout",
     "output_type": "stream",
     "text": [
      "Code name\n",
      "\n",
      "Version number(s)\n",
      "\n",
      "Initial release date\n",
      "\n",
      "API level\n",
      "\n",
      "References\n",
      "\n"
     ]
    }
   ],
   "source": [
    "# To get actual name of the headers we use\n",
    "\n",
    "for i in range(0,len(headers)):\n",
    "    print(headers[i].text)"
   ]
  },
  {
   "cell_type": "code",
   "execution_count": 32,
   "metadata": {},
   "outputs": [
    {
     "name": "stdout",
     "output_type": "stream",
     "text": [
      "['Code name\\n', 'Version number(s)\\n', 'Initial release date\\n', 'API level\\n', 'References\\n']\n"
     ]
    }
   ],
   "source": [
    "coloumn_titles=[ct.text for ct in headers]\n",
    "print(coloumn_titles)"
   ]
  },
  {
   "cell_type": "markdown",
   "metadata": {},
   "source": [
    "### We are also getting '\\n' so we can remove that by slicing as follows"
   ]
  },
  {
   "cell_type": "code",
   "execution_count": 33,
   "metadata": {},
   "outputs": [
    {
     "name": "stdout",
     "output_type": "stream",
     "text": [
      "['Code name', 'Version number(s)', 'Initial release date', 'API level', 'References']\n"
     ]
    }
   ],
   "source": [
    "coloumn_titles=[ct.text[:-1] for ct in headers]\n",
    "print(coloumn_titles)"
   ]
  },
  {
   "cell_type": "markdown",
   "metadata": {},
   "source": [
    "## Now we will scrape the row data"
   ]
  },
  {
   "cell_type": "code",
   "execution_count": 34,
   "metadata": {},
   "outputs": [
    {
     "name": "stdout",
     "output_type": "stream",
     "text": [
      "No codename\n",
      "\n",
      "1.0\n",
      "\n",
      "September 23, 2008\n",
      "\n",
      "1\n",
      "\n",
      "[9]\n",
      "\n"
     ]
    }
   ],
   "source": [
    "# We have written [1:] as we want all the rows except the first row\n",
    "\n",
    "\n",
    "rows_data=useful_table.findAll('tr')[1:]\n",
    "# Above signifies getting the rows starting the rows starting from index 1\n",
    "\n",
    "\n",
    "first_row=rows_data[0].findAll('td',{})\n",
    "\n",
    "for d in first_row:\n",
    "    print(d.text)"
   ]
  },
  {
   "cell_type": "markdown",
   "metadata": {},
   "source": [
    "## Now we will iterate all the rows(tr) and all the coloumns(td or th) in a particular row"
   ]
  },
  {
   "cell_type": "code",
   "execution_count": 37,
   "metadata": {},
   "outputs": [
    {
     "name": "stdout",
     "output_type": "stream",
     "text": [
      "['No codename', '1.0', 'September 23, 2008', '1', '[9]']\n",
      "5\n",
      "['1.1', 'February 9, 2009', '2', '[9][11]']\n",
      "4\n",
      "['Cupcake', '1.5', 'April 27, 2009', '3', '']\n",
      "5\n",
      "['Donut', '1.6', 'September 15, 2009', '4', '[12]']\n",
      "5\n",
      "['Eclair', '2.0 – 2.1', 'October 26, 2009', '5 – 7', '[13]']\n",
      "5\n",
      "['Froyo', '2.2 – 2.2.3', 'May 20, 2010', '8', '[14]']\n",
      "5\n",
      "['Gingerbread', '2.3 – 2.3.7', 'December 6, 2010', '9 – 10', '[15]']\n",
      "5\n",
      "['Honeycomb', '3.0 – 3.2.6', 'February 22, 2011', '11 – 13', '[16]']\n",
      "5\n",
      "['Ice Cream Sandwich', '4.0 – 4.0.4', 'October 18, 2011', '14 – 15', '[17]']\n",
      "5\n",
      "['Jelly Bean', '4.1 – 4.3.1', 'July 9, 2012', '16 – 18', '[18]']\n",
      "5\n",
      "['KitKat', '4.4 – 4.4.4', 'October 31, 2013', '19 – 20', '[19]']\n",
      "5\n",
      "['Lollipop', '5.0 – 5.1.1', 'November 12, 2014', '21 – 22', '[20]']\n",
      "5\n",
      "['Marshmallow', '6.0 – 6.0.1', 'October 5, 2015', '23', '[21]']\n",
      "5\n",
      "['Nougat', '7.0 – 7.1.2', 'August 22, 2016', '24 – 25', '[22][23][24][25]']\n",
      "5\n",
      "['Oreo', '8.0 – 8.1', 'August 21, 2017', '26 – 27', '[26]']\n",
      "5\n",
      "['Pie', '9.0', 'August 6, 2018', '28', '[27]']\n",
      "5\n",
      "['Android 10', '10.0', 'September 3, 2019', '29', '[28]']\n",
      "5\n",
      "['Android 11', '11.0', 'TBD', '', '']\n",
      "5\n"
     ]
    }
   ],
   "source": [
    "table_row=[]\n",
    "\n",
    "# Rows data have all rows except the first row \n",
    "for row in rows_data:\n",
    "    current_row=[]\n",
    "    all_td_of_row=row.findAll('td',{})\n",
    "    \n",
    "    \n",
    "    for id,data in enumerate(all_td_of_row):\n",
    "        current_row.append(data.text[:-1])\n",
    "    table_row.append(current_row)\n",
    "\n",
    "\n",
    "for i in range(0,len(table_row)):\n",
    "    print(table_row[i])\n",
    "    print(len(table_row[i]))"
   ]
  },
  {
   "cell_type": "markdown",
   "metadata": {},
   "source": [
    "# Creating a csv file for the above scrapping"
   ]
  },
  {
   "cell_type": "code",
   "execution_count": 39,
   "metadata": {},
   "outputs": [],
   "source": [
    "file_name='anroid_version_history.csv'\n",
    "\n",
    "with open(filename,'w+') as f:\n",
    "    # To add heading\n",
    "    header_string=','.join(coloumn_titles)\n",
    "    \n",
    "    \n",
    "    # Have a new line after heading\n",
    "    header_string+='\\n'\n",
    "    \n",
    "    \n",
    "    f.write(header_string)\n",
    "    \n",
    "    \n",
    "    # Now say we want dates not to be comman seprated so that pandas operation are easy\n",
    "    for row in table_row:\n",
    "        row_string=\"\"\n",
    "        for w in row:\n",
    "            # Replace comma with NULL string\n",
    "            w=w.replace(',','')\n",
    "            row_string+=w+','\n",
    "        row_string+='\\n'\n",
    "        f.write(row_string)\n",
    "    "
   ]
  },
  {
   "cell_type": "markdown",
   "metadata": {},
   "source": [
    "## Now Presenting csv data in tabular format"
   ]
  },
  {
   "cell_type": "code",
   "execution_count": 40,
   "metadata": {},
   "outputs": [
    {
     "data": {
      "text/html": [
       "<div>\n",
       "<style scoped>\n",
       "    .dataframe tbody tr th:only-of-type {\n",
       "        vertical-align: middle;\n",
       "    }\n",
       "\n",
       "    .dataframe tbody tr th {\n",
       "        vertical-align: top;\n",
       "    }\n",
       "\n",
       "    .dataframe thead th {\n",
       "        text-align: right;\n",
       "    }\n",
       "</style>\n",
       "<table border=\"1\" class=\"dataframe\">\n",
       "  <thead>\n",
       "    <tr style=\"text-align: right;\">\n",
       "      <th></th>\n",
       "      <th>Code name</th>\n",
       "      <th>Version number(s)</th>\n",
       "      <th>Initial release date</th>\n",
       "      <th>API level</th>\n",
       "      <th>References</th>\n",
       "    </tr>\n",
       "  </thead>\n",
       "  <tbody>\n",
       "    <tr>\n",
       "      <th>No codename</th>\n",
       "      <td>1.0</td>\n",
       "      <td>September 23 2008</td>\n",
       "      <td>1</td>\n",
       "      <td>[9]</td>\n",
       "      <td>NaN</td>\n",
       "    </tr>\n",
       "    <tr>\n",
       "      <th>1.1</th>\n",
       "      <td>February 9 2009</td>\n",
       "      <td>2</td>\n",
       "      <td>[9][11]</td>\n",
       "      <td>NaN</td>\n",
       "      <td>NaN</td>\n",
       "    </tr>\n",
       "    <tr>\n",
       "      <th>Cupcake</th>\n",
       "      <td>1.5</td>\n",
       "      <td>April 27 2009</td>\n",
       "      <td>3</td>\n",
       "      <td>NaN</td>\n",
       "      <td>NaN</td>\n",
       "    </tr>\n",
       "    <tr>\n",
       "      <th>Donut</th>\n",
       "      <td>1.6</td>\n",
       "      <td>September 15 2009</td>\n",
       "      <td>4</td>\n",
       "      <td>[12]</td>\n",
       "      <td>NaN</td>\n",
       "    </tr>\n",
       "    <tr>\n",
       "      <th>Eclair</th>\n",
       "      <td>2.0 – 2.1</td>\n",
       "      <td>October 26 2009</td>\n",
       "      <td>5 – 7</td>\n",
       "      <td>[13]</td>\n",
       "      <td>NaN</td>\n",
       "    </tr>\n",
       "    <tr>\n",
       "      <th>Froyo</th>\n",
       "      <td>2.2 – 2.2.3</td>\n",
       "      <td>May 20 2010</td>\n",
       "      <td>8</td>\n",
       "      <td>[14]</td>\n",
       "      <td>NaN</td>\n",
       "    </tr>\n",
       "    <tr>\n",
       "      <th>Gingerbread</th>\n",
       "      <td>2.3 – 2.3.7</td>\n",
       "      <td>December 6 2010</td>\n",
       "      <td>9 – 10</td>\n",
       "      <td>[15]</td>\n",
       "      <td>NaN</td>\n",
       "    </tr>\n",
       "    <tr>\n",
       "      <th>Honeycomb</th>\n",
       "      <td>3.0 – 3.2.6</td>\n",
       "      <td>February 22 2011</td>\n",
       "      <td>11 – 13</td>\n",
       "      <td>[16]</td>\n",
       "      <td>NaN</td>\n",
       "    </tr>\n",
       "    <tr>\n",
       "      <th>Ice Cream Sandwich</th>\n",
       "      <td>4.0 – 4.0.4</td>\n",
       "      <td>October 18 2011</td>\n",
       "      <td>14 – 15</td>\n",
       "      <td>[17]</td>\n",
       "      <td>NaN</td>\n",
       "    </tr>\n",
       "    <tr>\n",
       "      <th>Jelly Bean</th>\n",
       "      <td>4.1 – 4.3.1</td>\n",
       "      <td>July 9 2012</td>\n",
       "      <td>16 – 18</td>\n",
       "      <td>[18]</td>\n",
       "      <td>NaN</td>\n",
       "    </tr>\n",
       "    <tr>\n",
       "      <th>KitKat</th>\n",
       "      <td>4.4 – 4.4.4</td>\n",
       "      <td>October 31 2013</td>\n",
       "      <td>19 – 20</td>\n",
       "      <td>[19]</td>\n",
       "      <td>NaN</td>\n",
       "    </tr>\n",
       "    <tr>\n",
       "      <th>Lollipop</th>\n",
       "      <td>5.0 – 5.1.1</td>\n",
       "      <td>November 12 2014</td>\n",
       "      <td>21 – 22</td>\n",
       "      <td>[20]</td>\n",
       "      <td>NaN</td>\n",
       "    </tr>\n",
       "    <tr>\n",
       "      <th>Marshmallow</th>\n",
       "      <td>6.0 – 6.0.1</td>\n",
       "      <td>October 5 2015</td>\n",
       "      <td>23</td>\n",
       "      <td>[21]</td>\n",
       "      <td>NaN</td>\n",
       "    </tr>\n",
       "    <tr>\n",
       "      <th>Nougat</th>\n",
       "      <td>7.0 – 7.1.2</td>\n",
       "      <td>August 22 2016</td>\n",
       "      <td>24 – 25</td>\n",
       "      <td>[22][23][24][25]</td>\n",
       "      <td>NaN</td>\n",
       "    </tr>\n",
       "    <tr>\n",
       "      <th>Oreo</th>\n",
       "      <td>8.0 – 8.1</td>\n",
       "      <td>August 21 2017</td>\n",
       "      <td>26 – 27</td>\n",
       "      <td>[26]</td>\n",
       "      <td>NaN</td>\n",
       "    </tr>\n",
       "    <tr>\n",
       "      <th>Pie</th>\n",
       "      <td>9.0</td>\n",
       "      <td>August 6 2018</td>\n",
       "      <td>28</td>\n",
       "      <td>[27]</td>\n",
       "      <td>NaN</td>\n",
       "    </tr>\n",
       "    <tr>\n",
       "      <th>Android 10</th>\n",
       "      <td>10.0</td>\n",
       "      <td>September 3 2019</td>\n",
       "      <td>29</td>\n",
       "      <td>[28]</td>\n",
       "      <td>NaN</td>\n",
       "    </tr>\n",
       "    <tr>\n",
       "      <th>Android 11</th>\n",
       "      <td>11.0</td>\n",
       "      <td>TBD</td>\n",
       "      <td>NaN</td>\n",
       "      <td>NaN</td>\n",
       "      <td>NaN</td>\n",
       "    </tr>\n",
       "  </tbody>\n",
       "</table>\n",
       "</div>"
      ],
      "text/plain": [
       "                          Code name  Version number(s) Initial release date  \\\n",
       "No codename                     1.0  September 23 2008                    1   \n",
       "1.1                 February 9 2009                  2              [9][11]   \n",
       "Cupcake                         1.5      April 27 2009                    3   \n",
       "Donut                           1.6  September 15 2009                    4   \n",
       "Eclair                    2.0 – 2.1    October 26 2009                5 – 7   \n",
       "Froyo                   2.2 – 2.2.3        May 20 2010                    8   \n",
       "Gingerbread             2.3 – 2.3.7    December 6 2010               9 – 10   \n",
       "Honeycomb               3.0 – 3.2.6   February 22 2011              11 – 13   \n",
       "Ice Cream Sandwich      4.0 – 4.0.4    October 18 2011              14 – 15   \n",
       "Jelly Bean              4.1 – 4.3.1        July 9 2012              16 – 18   \n",
       "KitKat                  4.4 – 4.4.4    October 31 2013              19 – 20   \n",
       "Lollipop                5.0 – 5.1.1   November 12 2014              21 – 22   \n",
       "Marshmallow             6.0 – 6.0.1     October 5 2015                   23   \n",
       "Nougat                  7.0 – 7.1.2     August 22 2016              24 – 25   \n",
       "Oreo                      8.0 – 8.1     August 21 2017              26 – 27   \n",
       "Pie                             9.0      August 6 2018                   28   \n",
       "Android 10                     10.0   September 3 2019                   29   \n",
       "Android 11                     11.0                TBD                  NaN   \n",
       "\n",
       "                           API level  References  \n",
       "No codename                      [9]         NaN  \n",
       "1.1                              NaN         NaN  \n",
       "Cupcake                          NaN         NaN  \n",
       "Donut                           [12]         NaN  \n",
       "Eclair                          [13]         NaN  \n",
       "Froyo                           [14]         NaN  \n",
       "Gingerbread                     [15]         NaN  \n",
       "Honeycomb                       [16]         NaN  \n",
       "Ice Cream Sandwich              [17]         NaN  \n",
       "Jelly Bean                      [18]         NaN  \n",
       "KitKat                          [19]         NaN  \n",
       "Lollipop                        [20]         NaN  \n",
       "Marshmallow                     [21]         NaN  \n",
       "Nougat              [22][23][24][25]         NaN  \n",
       "Oreo                            [26]         NaN  \n",
       "Pie                             [27]         NaN  \n",
       "Android 10                      [28]         NaN  \n",
       "Android 11                       NaN         NaN  "
      ]
     },
     "execution_count": 40,
     "metadata": {},
     "output_type": "execute_result"
    }
   ],
   "source": [
    "import pandas as pd\n",
    "df=pd.read_csv('anroid_version_history.csv')\n",
    "df"
   ]
  },
  {
   "cell_type": "code",
   "execution_count": 42,
   "metadata": {},
   "outputs": [
    {
     "data": {
      "text/html": [
       "<div>\n",
       "<style scoped>\n",
       "    .dataframe tbody tr th:only-of-type {\n",
       "        vertical-align: middle;\n",
       "    }\n",
       "\n",
       "    .dataframe tbody tr th {\n",
       "        vertical-align: top;\n",
       "    }\n",
       "\n",
       "    .dataframe thead th {\n",
       "        text-align: right;\n",
       "    }\n",
       "</style>\n",
       "<table border=\"1\" class=\"dataframe\">\n",
       "  <thead>\n",
       "    <tr style=\"text-align: right;\">\n",
       "      <th></th>\n",
       "      <th>Code name</th>\n",
       "      <th>Version number(s)</th>\n",
       "      <th>Initial release date</th>\n",
       "      <th>API level</th>\n",
       "      <th>References</th>\n",
       "    </tr>\n",
       "  </thead>\n",
       "  <tbody>\n",
       "    <tr>\n",
       "      <th>No codename</th>\n",
       "      <td>1.0</td>\n",
       "      <td>September 23 2008</td>\n",
       "      <td>1</td>\n",
       "      <td>[9]</td>\n",
       "      <td>NaN</td>\n",
       "    </tr>\n",
       "    <tr>\n",
       "      <th>1.1</th>\n",
       "      <td>February 9 2009</td>\n",
       "      <td>2</td>\n",
       "      <td>[9][11]</td>\n",
       "      <td>NaN</td>\n",
       "      <td>NaN</td>\n",
       "    </tr>\n",
       "    <tr>\n",
       "      <th>Cupcake</th>\n",
       "      <td>1.5</td>\n",
       "      <td>April 27 2009</td>\n",
       "      <td>3</td>\n",
       "      <td>NaN</td>\n",
       "      <td>NaN</td>\n",
       "    </tr>\n",
       "  </tbody>\n",
       "</table>\n",
       "</div>"
      ],
      "text/plain": [
       "                   Code name  Version number(s) Initial release date  \\\n",
       "No codename              1.0  September 23 2008                    1   \n",
       "1.1          February 9 2009                  2              [9][11]   \n",
       "Cupcake                  1.5      April 27 2009                    3   \n",
       "\n",
       "            API level  References  \n",
       "No codename       [9]         NaN  \n",
       "1.1               NaN         NaN  \n",
       "Cupcake           NaN         NaN  "
      ]
     },
     "execution_count": 42,
     "metadata": {},
     "output_type": "execute_result"
    }
   ],
   "source": [
    "df.head(n=3)"
   ]
  },
  {
   "cell_type": "code",
   "execution_count": 44,
   "metadata": {},
   "outputs": [
    {
     "data": {
      "text/plain": [
       "'September 23 2008'"
      ]
     },
     "execution_count": 44,
     "metadata": {},
     "output_type": "execute_result"
    }
   ],
   "source": [
    "df.iloc[0][1]"
   ]
  },
  {
   "cell_type": "code",
   "execution_count": null,
   "metadata": {},
   "outputs": [],
   "source": []
  }
 ],
 "metadata": {
  "kernelspec": {
   "display_name": "Python 3",
   "language": "python",
   "name": "python3"
  },
  "language_info": {
   "codemirror_mode": {
    "name": "ipython",
    "version": 3
   },
   "file_extension": ".py",
   "mimetype": "text/x-python",
   "name": "python",
   "nbconvert_exporter": "python",
   "pygments_lexer": "ipython3",
   "version": "3.7.3"
  }
 },
 "nbformat": 4,
 "nbformat_minor": 2
}
