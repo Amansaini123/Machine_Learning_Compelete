{
 "cells": [
  {
   "cell_type": "markdown",
   "metadata": {},
   "source": [
    "## Normalizing the data i.e mean is 0 and standard deviation as 1"
   ]
  },
  {
   "cell_type": "code",
   "execution_count": 4,
   "metadata": {},
   "outputs": [
    {
     "name": "stdout",
     "output_type": "stream",
     "text": [
      "(99, 1)\n",
      "(99, 1)\n",
      "(99, 1)\n",
      "(99, 1)\n"
     ]
    }
   ],
   "source": [
    "import pandas as pd\n",
    "import numpy as np\n",
    "import matplotlib.pyplot as plt\n",
    "\n",
    "\n",
    "dfx=pd.read_csv('linearX.csv')\n",
    "dfy=pd.read_csv('linearY.csv')\n",
    "\n",
    "\n",
    "print(dfx.shape)\n",
    "print(dfy.shape)\n",
    "\n",
    "\n",
    "X=dfx.values\n",
    "Y=dfy.values\n",
    "\n",
    "\n",
    "print(X.shape)\n",
    "print(Y.shape)"
   ]
  },
  {
   "cell_type": "code",
   "execution_count": 9,
   "metadata": {},
   "outputs": [
    {
     "data": {
      "image/png": "[encoded data removed]",
      "text/plain": [
       "<Figure size 432x288 with 1 Axes>"
      ]
     },
     "metadata": {
      "needs_background": "light"
     },
     "output_type": "display_data"
    }
   ],
   "source": [
    "# Normalizing the data\n",
    "# Here First subract then divide i.e use brackets else wrong answer\n",
    "\n",
    "XM=(X-X.mean())/X.std()\n",
    "\n",
    "\n",
    "plt.scatter(X,Y,color='pink',label='Raw_data')\n",
    "plt.scatter(XM,Y,color='orange',label='Normalised_data')\n",
    "plt.legend()\n",
    "plt.show()\n",
    "\n",
    "# Label will work only with legend"
   ]
  },
  {
   "cell_type": "markdown",
   "metadata": {},
   "source": [
    "### We can see that pink is more spreaded i.e deviation little more than 1 ,however orange has deviation of 1"
   ]
  },
  {
   "cell_type": "markdown",
   "metadata": {},
   "source": [
    "# Natural Language Pre Processing"
   ]
  },
  {
   "cell_type": "markdown",
   "metadata": {},
   "source": [
    "### The open source library we use for this is nltk i.e natural language toolkit  "
   ]
  },
  {
   "cell_type": "code",
   "execution_count": null,
   "metadata": {},
   "outputs": [],
   "source": []
  },
  {
   "cell_type": "code",
   "execution_count": 19,
   "metadata": {},
   "outputs": [
    {
     "name": "stdout",
     "output_type": "stream",
     "text": [
      "['I have three visions for India.', 'In 3000 years of our history, people from all over \\nthe world have come and invaded us, captured our lands, conquered our minds.']\n",
      "\n",
      "\n",
      "['I', 'have', 'three', 'visions', 'for', 'India', '.']\n",
      "\n",
      "\n",
      "73\n"
     ]
    }
   ],
   "source": [
    "import nltk\n",
    "\n",
    "\n",
    "paragraph=\"\"\"I have three visions for India. In 3000 years of our history, people from all over \n",
    "the world have come and invaded us, captured our lands, conquered our minds. \n",
    "From Alexander onwards, the Greeks, the Turks, the Moguls, the Portuguese, the British,\n",
    "the French, the Dutch, all of them came and looted us, took over what was ours. \n",
    "\"\"\"\n",
    "\n",
    "\n",
    "\n",
    "sentence=nltk.sent_tokenize(paragraph)\n",
    "print(sentence[:2])\n",
    "\n",
    "\n",
    "print('\\n')\n",
    "\n",
    "\n",
    "word=nltk.word_tokenize(paragraph)\n",
    "print(word[:7])\n",
    "\n",
    "\n",
    "print('\\n')\n",
    "print(len(word))"
   ]
  },
  {
   "cell_type": "markdown",
   "metadata": {},
   "source": [
    "### Notice even full stop and comman are considered as words"
   ]
  },
  {
   "cell_type": "markdown",
   "metadata": {},
   "source": [
    "### Stemming and Lemmatization are Text Normalization (or sometimes called Word Normalization) techniques in the field of Natural Language Processing that are used to prepare text, words, and documents for further processing."
   ]
  },
  {
   "cell_type": "markdown",
   "metadata": {},
   "source": [
    "### Stemming is the process of reducing words to their root form such as mapping a group of words to the same stem even if the stem itself is not a valid word in the Language. example finay ,final, finalized all are converted to fina  . example of stemming is gmail spam classifier , positive negative sentiment analysics, as here we just need to find the base word no need to have a proper meaning of that word"
   ]
  },
  {
   "cell_type": "markdown",
   "metadata": {},
   "source": [
    "### What lemmatization do is it convert to a word having meaning example  finally ,final, finalized all are converted to final i.e end word has a definite meaning unlike stemming . However lemmatization is time consuming. It is used in chat bots , "
   ]
  },
  {
   "cell_type": "code",
   "execution_count": 15,
   "metadata": {},
   "outputs": [
    {
     "name": "stdout",
     "output_type": "stream",
     "text": [
      "['i', 'me', 'my', 'myself', 'we', 'our', 'ours', 'ourselves', 'you', \"you're\"]\n"
     ]
    }
   ],
   "source": [
    "import nltk\n",
    "\n",
    "# In stem class (Porter stemmer) library is present used for stemming\n",
    "from nltk.stem import PorterStemmer\n",
    "\n",
    "\n",
    "# Stop words Remove the words from paragraph that does not have much meaning i.e of, then, and, our ,there \n",
    "# They are Repeated many times and doesnot contribute to positive negative analysics\n",
    "from nltk.corpus import stopwords\n",
    "\n",
    "\n",
    "all_stop_words=stopwords.words('english')\n",
    "print(all_stop_words[:10])"
   ]
  },
  {
   "cell_type": "code",
   "execution_count": 23,
   "metadata": {},
   "outputs": [],
   "source": [
    "sentence=nltk.sent_tokenize(paragraph)"
   ]
  },
  {
   "cell_type": "code",
   "execution_count": 24,
   "metadata": {},
   "outputs": [],
   "source": [
    "# Creating the object of Porter stemmer named as stemmer\n",
    "\n",
    "stemmer=PorterStemmer()"
   ]
  },
  {
   "cell_type": "code",
   "execution_count": 25,
   "metadata": {},
   "outputs": [
    {
     "name": "stdout",
     "output_type": "stream",
     "text": [
      "I three vision india .\n",
      "In 3000 year histori , peopl world come invad us , captur land , conquer mind .\n",
      "from alexand onward , greek , turk , mogul , portugues , british , french , dutch , came loot us , took .\n"
     ]
    }
   ],
   "source": [
    "# Now we will do List compression i.e removing the stopwords\n",
    "# set is used for consider any duplicacy\n",
    " \n",
    "\n",
    "for i in range(len(sentence)):\n",
    "    # Step-1  Take the sentence and tokenize to that words \n",
    "    words=nltk.word_tokenize(sentence[i])\n",
    "    \n",
    "    \n",
    "    # Step-2 If word does not belong to the stopwords then perform stemming to that word else Remove that word\n",
    "    words=[stemmer.stem(word) for word in words if word not in set(stopwords.words('english'))]\n",
    "    \n",
    "    \n",
    "    # Step-3 Rejoin that word to sentence\n",
    "    sentence[i]=' '.join(words)\n",
    "    print(sentence[i])\n",
    "    "
   ]
  },
  {
   "cell_type": "markdown",
   "metadata": {},
   "source": [
    "#### History is stemmed to histori( major problem with stemming that produces intermidiate word which does not have any meaning) , turks to turk and so on \n",
    "#### Similary words like from , and etc are removed"
   ]
  },
  {
   "cell_type": "markdown",
   "metadata": {},
   "source": [
    "# Lemmitization"
   ]
  },
  {
   "cell_type": "code",
   "execution_count": 26,
   "metadata": {},
   "outputs": [
    {
     "name": "stdout",
     "output_type": "stream",
     "text": [
      "I three vision India .\n",
      "In 3000 year history , people world come invaded u , captured land , conquered mind .\n",
      "From Alexander onwards , Greeks , Turks , Moguls , Portuguese , British , French , Dutch , came looted u , took .\n"
     ]
    }
   ],
   "source": [
    "import nltk\n",
    "from nltk.stem import WordNetLemmatizer\n",
    "from nltk.corpus import stopwords\n",
    "\n",
    "\n",
    "\n",
    "paragraph=\"\"\"I have three visions for India. In 3000 years of our history, people from all over \n",
    "the world have come and invaded us, captured our lands, conquered our minds. \n",
    "From Alexander onwards, the Greeks, the Turks, the Moguls, the Portuguese, the British,\n",
    "the French, the Dutch, all of them came and looted us, took over what was ours. \n",
    "\"\"\"\n",
    "\n",
    "\n",
    "sentences = nltk.sent_tokenize(paragraph)\n",
    "lemmatizer = WordNetLemmatizer()\n",
    "\n",
    "\n",
    "for i in range(len(sentences)):\n",
    "    words = nltk.word_tokenize(sentences[i])\n",
    "    words = [lemmatizer.lemmatize(word) for word in words if word not in set(stopwords.words('english'))]\n",
    "    sentences[i] = ' '.join(words)\n",
    "    print(sentences[i])"
   ]
  },
  {
   "cell_type": "markdown",
   "metadata": {},
   "source": [
    "# Bag_of_Words"
   ]
  },
  {
   "cell_type": "code",
   "execution_count": 10,
   "metadata": {},
   "outputs": [],
   "source": [
    "import nltk\n",
    "\n",
    "paragraph =  \"\"\"I have three visions for India. In 3000 years of our history, people from all over \n",
    "               the world have come and invaded us, captured our lands, conquered our minds. \n",
    "               From Alexander onwards, the Greeks, the Turks, the Moguls, the Portuguese, the British,\n",
    "               the French, the Dutch, all of them came and looted us, took over what was ours. \n",
    "               Yet we have not done this to any other nation. We have not conquered anyone. \n",
    "               We have not grabbed their land, their culture, \n",
    "               their history and tried to enforce our way of life on them. \n",
    "               Why? \"\"\"\n",
    "               \n",
    "               \n",
    "\n",
    "# Cleaning the texts\n",
    "# Here re is for regular expression\n",
    "import re\n",
    "from nltk.corpus import stopwords\n",
    "from nltk.stem import PorterStemmer\n",
    "from nltk.stem import WordNetLemmatizer\n",
    "\n",
    "\n",
    "\n",
    "ps = PorterStemmer()\n",
    "wordnet=WordNetLemmatizer()\n",
    "sentences = nltk.sent_tokenize(paragraph)\n",
    "corpus = []\n",
    "\n",
    "\n",
    "\n",
    "for i in range(len(sentences)):\n",
    "    # i.e remove full stop , comma and all and only take words from a to z and replace them with space bar\n",
    "    review = re.sub('[^a-zA-Z]', ' ', sentences[i])\n",
    "    review = review.lower()\n",
    "    # split will split the sentences to the word list form\n",
    "    review = review.split()\n",
    "    review = [ps.stem(word) for word in review if not word in set(stopwords.words('english'))]\n",
    "    review = ' '.join(review)\n",
    "    corpus.append(review)\n",
    "    \n",
    "    \n",
    "    \n",
    "    \n",
    "# Creating the Bag of Words model\n",
    "# sklearn will have all the functionalities to convert to bag of words\n",
    "# fit_transform will make a table and toarray is there to have a visullay Reprentable form\n",
    "\n",
    "\n",
    "from sklearn.feature_extraction.text import CountVectorizer\n",
    "cv = CountVectorizer(max_features = 1500)\n",
    "X = cv.fit_transform(corpus).toarray()\n"
   ]
  },
  {
   "cell_type": "code",
   "execution_count": 11,
   "metadata": {},
   "outputs": [
    {
     "data": {
      "text/plain": [
       "array([[0, 0, 0, ..., 0, 0, 0],\n",
       "       [0, 0, 0, ..., 1, 1, 0],\n",
       "       [0, 1, 0, ..., 0, 0, 0],\n",
       "       ...,\n",
       "       [0, 0, 0, ..., 0, 0, 0],\n",
       "       [0, 0, 0, ..., 0, 0, 0],\n",
       "       [0, 0, 0, ..., 0, 0, 0]])"
      ]
     },
     "execution_count": 11,
     "metadata": {},
     "output_type": "execute_result"
    }
   ],
   "source": [
    "X"
   ]
  },
  {
   "cell_type": "markdown",
   "metadata": {},
   "source": [
    "### Major Disadvantage of bag of words is that it has not semantic meaning that it has either 0 or 1 i.e all words are treated with same weight however in NLP say good and boy are not the same words good has the sentence changing power"
   ]
  },
  {
   "cell_type": "markdown",
   "metadata": {},
   "source": [
    "# TF (Term_Frequency) and IDF(Inverse_Document_Frequency)"
   ]
  },
  {
   "cell_type": "code",
   "execution_count": 12,
   "metadata": {},
   "outputs": [],
   "source": [
    "import nltk\n",
    "\n",
    "paragraph =  \"\"\"I have three visions for India. In 3000 years of our history, people from all over \n",
    "               the world have come and invaded us, captured our lands, conquered our minds. \n",
    "               From Alexander onwards, the Greeks, the Turks, the Moguls, the Portuguese, the British,\n",
    "               the French, the Dutch, all of them came and looted us, took over what was ours. \n",
    "               Yet we have not done this to any other nation. We have not conquered anyone. \n",
    "               We have not grabbed their land, their culture, \n",
    "               their history and tried to enforce our way of life on them. \n",
    "               Why? Because we respect the freedom of others.That is why my \n",
    "               first vision is that of freedom. I believe that India got its first vision of \n",
    "               this in 1857, when we started the War of Independence. It is this freedom that\n",
    "               we must protect and nurture and build on.\"\"\"\n",
    "               \n",
    "               \n",
    "        \n",
    "# Cleaning the texts\n",
    "import re\n",
    "from nltk.corpus import stopwords\n",
    "from nltk.stem.porter import PorterStemmer\n",
    "from nltk.stem import WordNetLemmatizer\n",
    "\n",
    "ps = PorterStemmer()\n",
    "wordnet=WordNetLemmatizer()\n",
    "sentences = nltk.sent_tokenize(paragraph)\n",
    "corpus = []\n",
    "for i in range(len(sentences)):\n",
    "    review = re.sub('[^a-zA-Z]', ' ', sentences[i])\n",
    "    review = review.lower()\n",
    "    review = review.split()\n",
    "    review = [wordnet.lemmatize(word) for word in review if not word in set(stopwords.words('english'))]\n",
    "    review = ' '.join(review)\n",
    "    corpus.append(review)\n",
    "    \n",
    "# Creating the TF-IDF model\n",
    "# Here we use the Library tfidfVectorizer\n",
    "\n",
    "from sklearn.feature_extraction.text import TfidfVectorizer\n",
    "cv = TfidfVectorizer()\n",
    "X = cv.fit_transform(corpus).toarray()"
   ]
  },
  {
   "cell_type": "code",
   "execution_count": 14,
   "metadata": {},
   "outputs": [
    {
     "name": "stdout",
     "output_type": "stream",
     "text": [
      "[[0.         0.         0.        ]\n",
      " [0.         0.         0.        ]\n",
      " [0.28867513 0.         0.        ]]\n"
     ]
    }
   ],
   "source": [
    "print(X[:3,:3])"
   ]
  },
  {
   "cell_type": "code",
   "execution_count": null,
   "metadata": {},
   "outputs": [],
   "source": []
  },
  {
   "cell_type": "code",
   "execution_count": null,
   "metadata": {},
   "outputs": [],
   "source": []
  },
  {
   "cell_type": "code",
   "execution_count": null,
   "metadata": {},
   "outputs": [],
   "source": []
  },
  {
   "cell_type": "code",
   "execution_count": null,
   "metadata": {},
   "outputs": [],
   "source": []
  },
  {
   "cell_type": "code",
   "execution_count": null,
   "metadata": {},
   "outputs": [],
   "source": []
  },
  {
   "cell_type": "code",
   "execution_count": null,
   "metadata": {},
   "outputs": [],
   "source": []
  }
 ],
 "metadata": {
  "kernelspec": {
   "display_name": "Python 3",
   "language": "python",
   "name": "python3"
  },
  "language_info": {
   "codemirror_mode": {
    "name": "ipython",
    "version": 3
   },
   "file_extension": ".py",
   "mimetype": "text/x-python",
   "name": "python",
   "nbconvert_exporter": "python",
   "pygments_lexer": "ipython3",
   "version": "3.7.3"
  }
 },
 "nbformat": 4,
 "nbformat_minor": 2
}
