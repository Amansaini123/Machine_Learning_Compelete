{
 "cells": [
  {
   "cell_type": "markdown",
   "metadata": {},
   "source": [
    "## Basics of Python"
   ]
  },
  {
   "cell_type": "code",
   "execution_count": 1,
   "metadata": {},
   "outputs": [
    {
     "name": "stdout",
     "output_type": "stream",
     "text": [
      "<class 'str'>\n",
      "<class 'str'>\n",
      "<class 'str'>\n"
     ]
    }
   ],
   "source": [
    "# String might be in single double or triple quote\n",
    "\n",
    "print(type('a'))\n",
    "print(type(\"a\"))\n",
    "print(type('''a'''))"
   ]
  },
  {
   "cell_type": "code",
   "execution_count": 3,
   "metadata": {},
   "outputs": [
    {
     "name": "stdout",
     "output_type": "stream",
     "text": [
      "aman\n",
      "saini\n"
     ]
    }
   ],
   "source": [
    "print('aman\\nsaini')"
   ]
  },
  {
   "cell_type": "code",
   "execution_count": 4,
   "metadata": {},
   "outputs": [
    {
     "name": "stdout",
     "output_type": "stream",
     "text": [
      "Rainy Day\n"
     ]
    }
   ],
   "source": [
    "# First character of a varibale must be a alphabet or underscore not digit\n",
    "\n",
    "weather='rainy'\n",
    "if weather=='rainy':\n",
    "    print('Rainy Day')\n",
    "else:\n",
    "    print('Sunny Day')"
   ]
  },
  {
   "cell_type": "code",
   "execution_count": 10,
   "metadata": {},
   "outputs": [
    {
     "name": "stdout",
     "output_type": "stream",
     "text": [
      "Capital of India is Delhi\n",
      "Capital of India is Delhi located at longitude 23.5\n"
     ]
    }
   ],
   "source": [
    "my_str=('Capital of %s is %s'%('India','Delhi'))\n",
    "print(my_str)\n",
    "\n",
    "\n",
    "\n",
    "my_str2=('Capital of {} is {} located at longitude {}'.format('India','Delhi',23.5))\n",
    "print(my_str2)"
   ]
  },
  {
   "cell_type": "code",
   "execution_count": 13,
   "metadata": {},
   "outputs": [
    {
     "name": "stdout",
     "output_type": "stream",
     "text": [
      "aman\n",
      "saini\n",
      "aman???saini\n"
     ]
    }
   ],
   "source": [
    "# By defalut end is with new line but we can change that also\n",
    "\n",
    "print(\"aman\")\n",
    "print('saini')\n",
    "\n",
    "\n",
    "print(\"aman\",end='???')\n",
    "print('saini')"
   ]
  },
  {
   "cell_type": "code",
   "execution_count": 16,
   "metadata": {},
   "outputs": [
    {
     "name": "stdout",
     "output_type": "stream",
     "text": [
      "A B C\n",
      "\n",
      "\n",
      "A\n",
      "B\n",
      "C\n"
     ]
    }
   ],
   "source": [
    "# By Default seprator is space \n",
    "\n",
    "print('A','B','C')\n",
    "print('\\n')\n",
    "print('A','B','C',sep='\\n')"
   ]
  },
  {
   "cell_type": "code",
   "execution_count": 18,
   "metadata": {},
   "outputs": [
    {
     "name": "stdout",
     "output_type": "stream",
     "text": [
      "aman\n",
      "hi aman saini\n",
      "<class 'str'>\n"
     ]
    }
   ],
   "source": [
    "# Whatever may be the input to the python it always goes as a string data hence we have to typecase it\n",
    "\n",
    "name=input()\n",
    "print(\"hi \"+name+\" saini\")\n",
    "print(type(name))\n"
   ]
  },
  {
   "cell_type": "code",
   "execution_count": 20,
   "metadata": {},
   "outputs": [
    {
     "name": "stdout",
     "output_type": "stream",
     "text": [
      "2\n",
      "2\n",
      "<class 'int'>\n"
     ]
    }
   ],
   "source": [
    "number=int(input())\n",
    "print(number)\n",
    "print(type(number))"
   ]
  },
  {
   "cell_type": "code",
   "execution_count": 26,
   "metadata": {},
   "outputs": [
    {
     "name": "stdout",
     "output_type": "stream",
     "text": [
      "10\n",
      "['10', '20', '30', '40', '50']\n",
      "<class 'list'>\n",
      "\n",
      "\n",
      "1\n",
      "['1', '2', '3', '4', '5']\n",
      "<class 'list'>\n"
     ]
    }
   ],
   "source": [
    "# .split() returns a list of strings after breaking up the given string by default by space\n",
    "\n",
    "l=\"10 20 30 40 50\".split()\n",
    "print(l[0])\n",
    "print(l)\n",
    "print(type(l))\n",
    "\n",
    "\n",
    "print('\\n')\n",
    "\n",
    "\n",
    "m=\"1:2:3:4:5\".split(':')\n",
    "print(m[0])\n",
    "print(m)\n",
    "print(type(m))"
   ]
  },
  {
   "cell_type": "code",
   "execution_count": 30,
   "metadata": {},
   "outputs": [
    {
     "name": "stdout",
     "output_type": "stream",
     "text": [
      "['10', '20', '30', '40', '50']\n",
      "<class 'list'>\n",
      "\n",
      "\n",
      "[10, 20, 30, 40, 50]\n",
      "<class 'list'>\n"
     ]
    }
   ],
   "source": [
    "# Converting list of string to the list of numbers\n",
    "\n",
    "l='10 20 30 40 50'.split()\n",
    "print(l)\n",
    "print(type(l))\n",
    "\n",
    "print('\\n')\n",
    "\n",
    "new_l=[int(no) for no in l]\n",
    "print(new_l)\n",
    "print(type(new_l))"
   ]
  },
  {
   "cell_type": "code",
   "execution_count": 1,
   "metadata": {},
   "outputs": [
    {
     "name": "stdout",
     "output_type": "stream",
     "text": [
      "1 2 3 4 5\n",
      "[1, 2, 3, 4, 5]\n"
     ]
    }
   ],
   "source": [
    "# List Comprehension method\n",
    "\n",
    "nl=[int(no) for no in input().split()]\n",
    "print(nl)"
   ]
  },
  {
   "cell_type": "code",
   "execution_count": 2,
   "metadata": {},
   "outputs": [
    {
     "name": "stdout",
     "output_type": "stream",
     "text": [
      "3.3333333333333335\n",
      "3\n",
      "125\n"
     ]
    }
   ],
   "source": [
    "print(10/3)\n",
    "print(10//3)\n",
    "print(5**3)"
   ]
  },
  {
   "cell_type": "code",
   "execution_count": 10,
   "metadata": {},
   "outputs": [
    {
     "name": "stdout",
     "output_type": "stream",
     "text": [
      "1, 3, 5, 7, 9, \n",
      "\n",
      "1, 2, 3, 4, 5, 6, 7, 8, 9, \n",
      "\n",
      "10, 8, 6, 4, 2, "
     ]
    }
   ],
   "source": [
    "# For loop\n",
    "\n",
    "for i in range(1,10,2):\n",
    "    print(i,end=', ')\n",
    "\n",
    "print('\\n')\n",
    "\n",
    "for i in range(1,10):\n",
    "    print(i,end=', ')\n",
    "    \n",
    "    \n",
    "print('\\n')\n",
    "\n",
    "for i in range(10,1,-2):\n",
    "    print(i,end=', ')"
   ]
  },
  {
   "cell_type": "code",
   "execution_count": 12,
   "metadata": {},
   "outputs": [
    {
     "name": "stdout",
     "output_type": "stream",
     "text": [
      "d\n",
      "h,e,l,l,o, ,w,o,r,l,d,"
     ]
    }
   ],
   "source": [
    "# Python strings are immutable i.e we cant do s[0]='e' in python\n",
    "\n",
    "my_str=\"hello world\"\n",
    "print(my_str[-1])\n",
    "\n",
    "\n",
    "for c in my_str:\n",
    "    print(c,end=',')"
   ]
  },
  {
   "cell_type": "code",
   "execution_count": 13,
   "metadata": {},
   "outputs": [
    {
     "name": "stdout",
     "output_type": "stream",
     "text": [
      "mangojuice\n",
      "mangomangomango\n",
      "ango\n",
      "an\n"
     ]
    }
   ],
   "source": [
    "a=\"mango\"\n",
    "b=\"juice\"\n",
    "\n",
    "print(a+b)\n",
    "print(a*3)\n",
    "print(a[1:len(a)])\n",
    "print(a[1:-2])"
   ]
  },
  {
   "cell_type": "code",
   "execution_count": 14,
   "metadata": {},
   "outputs": [
    {
     "data": {
      "text/plain": [
       "True"
      ]
     },
     "execution_count": 14,
     "metadata": {},
     "output_type": "execute_result"
    }
   ],
   "source": [
    "'go' in a"
   ]
  },
  {
   "cell_type": "code",
   "execution_count": 16,
   "metadata": {},
   "outputs": [
    {
     "name": "stdout",
     "output_type": "stream",
     "text": [
      "['this', 'is', 'some', 'para', 'written', 'here']\n",
      "[' this is some', '        para', '        written here']\n"
     ]
    }
   ],
   "source": [
    "para=\"\"\" this is some\n",
    "        para\n",
    "        written here\"\"\"\n",
    "\n",
    "l=para.split()\n",
    "print(l)\n",
    "\n",
    "l=para.splitlines()\n",
    "print(l)"
   ]
  },
  {
   "cell_type": "code",
   "execution_count": 17,
   "metadata": {},
   "outputs": [
    {
     "name": "stdout",
     "output_type": "stream",
     "text": [
      "MANGO\n",
      "mango\n"
     ]
    }
   ],
   "source": [
    "# General Functions on string \n",
    "\n",
    "\n",
    "fruit=\"ManGo\"\n",
    "fruit=fruit.upper()\n",
    "print(fruit)\n",
    "\n",
    "\n",
    "fruit=fruit.lower()\n",
    "print(fruit)"
   ]
  },
  {
   "cell_type": "code",
   "execution_count": 18,
   "metadata": {},
   "outputs": [
    {
     "name": "stdout",
     "output_type": "stream",
     "text": [
      "18\n",
      "15\n",
      "11\n",
      "11\n"
     ]
    }
   ],
   "source": [
    "shake=\"   apple shake    \"\n",
    "shake2=shake\n",
    "print(len(shake))\n",
    "\n",
    "\n",
    "\n",
    "shake=shake.lstrip()\n",
    "print(len(shake))\n",
    "shake=shake.rstrip()\n",
    "print(len(shake))\n",
    "\n",
    "\n",
    "shake2=shake2.strip()\n",
    "print(len(shake2))"
   ]
  },
  {
   "cell_type": "code",
   "execution_count": 19,
   "metadata": {},
   "outputs": [
    {
     "name": "stdout",
     "output_type": "stream",
     "text": [
      "True\n",
      "False\n",
      "True\n",
      "True\n",
      "False\n",
      "True\n"
     ]
    }
   ],
   "source": [
    "a=\"123\"\n",
    "print(a.isdigit())\n",
    "\n",
    "a=\"123asd\"\n",
    "print(a.isdigit())\n",
    "print(a.isalnum())\n",
    "\n",
    "a=\"asdasd\"\n",
    "print(a.isalpha())\n",
    "\n",
    "a=\"123asd\"\n",
    "print(a.isalpha())\n",
    "print(a.isalnum())"
   ]
  },
  {
   "cell_type": "code",
   "execution_count": 20,
   "metadata": {},
   "outputs": [
    {
     "data": {
      "text/plain": [
       "True"
      ]
     },
     "execution_count": 20,
     "metadata": {},
     "output_type": "execute_result"
    }
   ],
   "source": [
    "b=\"     \"\n",
    "b.isspace()\n",
    "# Only white spaces"
   ]
  },
  {
   "cell_type": "code",
   "execution_count": 21,
   "metadata": {},
   "outputs": [
    {
     "name": "stdout",
     "output_type": "stream",
     "text": [
      "7\n"
     ]
    },
    {
     "data": {
      "text/plain": [
       "44"
      ]
     },
     "execution_count": 21,
     "metadata": {},
     "output_type": "execute_result"
    }
   ],
   "source": [
    "a=\"i love apple juice, and i like to eat green apple\"\n",
    "print(a.find(\"apple\"))\n",
    "a.rfind(\"apple\")"
   ]
  },
  {
   "cell_type": "code",
   "execution_count": 22,
   "metadata": {},
   "outputs": [
    {
     "name": "stdout",
     "output_type": "stream",
     "text": [
      "-1\n"
     ]
    },
    {
     "data": {
      "text/plain": [
       "44"
      ]
     },
     "execution_count": 22,
     "metadata": {},
     "output_type": "execute_result"
    }
   ],
   "source": [
    "# if string is not present then it will return -1\n",
    "print(a.find(\"aman\"))\n",
    "\n",
    "# This will start the search from 30 and search till end\n",
    "a.find(\"apple\",30,len(a))"
   ]
  },
  {
   "cell_type": "code",
   "execution_count": 23,
   "metadata": {},
   "outputs": [
    {
     "name": "stdout",
     "output_type": "stream",
     "text": [
      "7\n",
      "44\n"
     ]
    },
    {
     "data": {
      "text/plain": [
       "-1"
      ]
     },
     "execution_count": 23,
     "metadata": {},
     "output_type": "execute_result"
    }
   ],
   "source": [
    "# Both index and find do the same job the only difference is that\n",
    "# in the return type find return -1 if not found however index throws expection\n",
    "\n",
    "\n",
    "print(a.index(\"apple\"))\n",
    "print(a.index(\"apple\",30,len(a)))\n",
    "\n",
    "a.find(\"aman\")"
   ]
  },
  {
   "cell_type": "code",
   "execution_count": 24,
   "metadata": {},
   "outputs": [
    {
     "ename": "ValueError",
     "evalue": "substring not found",
     "output_type": "error",
     "traceback": [
      "\u001b[0;31m---------------------------------------------------------------------------\u001b[0m",
      "\u001b[0;31mValueError\u001b[0m                                Traceback (most recent call last)",
      "\u001b[0;32m<ipython-input-24-27ad05f51edc>\u001b[0m in \u001b[0;36m<module>\u001b[0;34m\u001b[0m\n\u001b[0;32m----> 1\u001b[0;31m \u001b[0ma\u001b[0m\u001b[0;34m.\u001b[0m\u001b[0mindex\u001b[0m\u001b[0;34m(\u001b[0m\u001b[0;34m\"aman\"\u001b[0m\u001b[0;34m)\u001b[0m\u001b[0;34m\u001b[0m\u001b[0;34m\u001b[0m\u001b[0m\n\u001b[0m",
      "\u001b[0;31mValueError\u001b[0m: substring not found"
     ]
    }
   ],
   "source": [
    "a.index(\"aman\")"
   ]
  },
  {
   "cell_type": "code",
   "execution_count": 25,
   "metadata": {},
   "outputs": [
    {
     "name": "stdout",
     "output_type": "stream",
     "text": [
      "i love Mango juice, and i like to eat green Mango\n",
      "2\n"
     ]
    }
   ],
   "source": [
    "a=a.replace(\"apple\",\"Mango\")\n",
    "print(a)\n",
    "print(a.count(\"Mango\"))"
   ]
  },
  {
   "cell_type": "code",
   "execution_count": 26,
   "metadata": {},
   "outputs": [
    {
     "name": "stdout",
     "output_type": "stream",
     "text": [
      "i_love_Mango_juice,_and_i_like_to_eat_green_Mango\n"
     ]
    }
   ],
   "source": [
    "l=a.split()\n",
    "l=\"_\".join(l)\n",
    "\n",
    "print(l)"
   ]
  },
  {
   "cell_type": "code",
   "execution_count": 27,
   "metadata": {},
   "outputs": [
    {
     "name": "stdout",
     "output_type": "stream",
     "text": [
      "i___l_o_v_e___M_a_n_g_o___j_u_i_c_e_,___a_n_d___i___l_i_k_e___t_o___e_a_t___g_r_e_e_n___M_a_n_g_o\n"
     ]
    }
   ],
   "source": [
    "b=\"_\"\n",
    "m=b.join(l)\n",
    "print(m)"
   ]
  },
  {
   "cell_type": "code",
   "execution_count": 28,
   "metadata": {},
   "outputs": [
    {
     "name": "stdout",
     "output_type": "stream",
     "text": [
      "Aman saini aman\n",
      "Aman Saini Aman\n"
     ]
    }
   ],
   "source": [
    "name=\"aman saini aman\"\n",
    "print(name.capitalize())\n",
    "print(name.title())"
   ]
  },
  {
   "cell_type": "code",
   "execution_count": null,
   "metadata": {},
   "outputs": [],
   "source": []
  }
 ],
 "metadata": {
  "kernelspec": {
   "display_name": "Python 3",
   "language": "python",
   "name": "python3"
  },
  "language_info": {
   "codemirror_mode": {
    "name": "ipython",
    "version": 3
   },
   "file_extension": ".py",
   "mimetype": "text/x-python",
   "name": "python",
   "nbconvert_exporter": "python",
   "pygments_lexer": "ipython3",
   "version": "3.7.3"
  }
 },
 "nbformat": 4,
 "nbformat_minor": 2
}
