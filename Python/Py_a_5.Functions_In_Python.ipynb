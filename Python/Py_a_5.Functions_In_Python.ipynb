{
 "cells": [
  {
   "cell_type": "code",
   "execution_count": 1,
   "metadata": {},
   "outputs": [
    {
     "name": "stdout",
     "output_type": "stream",
     "text": [
      "1_2_3_4_5\n",
      "1*_*2*_*3*_*4*_*5\n"
     ]
    }
   ],
   "source": [
    "l=\"1 2 3 4 5\".split()\n",
    "l=\"_\".join(l)\n",
    "print(l)\n",
    "m=\"*\".join(l)\n",
    "print(m)"
   ]
  },
  {
   "cell_type": "markdown",
   "metadata": {},
   "source": [
    "# Map in python\n"
   ]
  },
  {
   "cell_type": "code",
   "execution_count": 4,
   "metadata": {},
   "outputs": [
    {
     "name": "stdout",
     "output_type": "stream",
     "text": [
      "[2, 4, 6, 8]\n"
     ]
    }
   ],
   "source": [
    "# Python program to demonstrate working \n",
    "# of map. \n",
    "\n",
    "# Return double of n \n",
    "def addition(n): \n",
    "\treturn n + n \n",
    "\n",
    "# We double all numbers using map() \n",
    "# passing tuple or list and function as argument\n",
    "numbers = (1, 2, 3, 4)\n",
    "result = map(addition, numbers) \n",
    "print(list(result)) "
   ]
  },
  {
   "cell_type": "markdown",
   "metadata": {},
   "source": [
    "### In functions of python we don't need to specify the data type of parameter and return argument"
   ]
  },
  {
   "cell_type": "code",
   "execution_count": 6,
   "metadata": {},
   "outputs": [
    {
     "name": "stdout",
     "output_type": "stream",
     "text": [
      "knock aman\n",
      "knock aman\n",
      "knock aman\n",
      "knock aman\n",
      "knock aman\n"
     ]
    }
   ],
   "source": [
    "def sheldon_knock(name,nooftimes=3):\n",
    "    for i in range(nooftimes):\n",
    "        print(\"knock {}\".format(name))\n",
    "\n",
    "sheldon_knock(\"aman\",5)"
   ]
  },
  {
   "cell_type": "markdown",
   "metadata": {},
   "source": [
    "#### Complier will first try the try block then it will execute the except block if try is not working properly but in anycase  finally block will always execute"
   ]
  },
  {
   "cell_type": "code",
   "execution_count": 7,
   "metadata": {},
   "outputs": [
    {
     "name": "stdout",
     "output_type": "stream",
     "text": [
      "open\n",
      "u can't divide a number by zero\n",
      "close\n"
     ]
    }
   ],
   "source": [
    "a=5\n",
    "b=0\n",
    "\n",
    "try:\n",
    "    print(\"open\")\n",
    "    print(a/b)\n",
    "except:\n",
    "    print(\"u can't divide a number by zero\")\n",
    "finally:\n",
    "    print(\"close\")\n",
    "    "
   ]
  },
  {
   "cell_type": "markdown",
   "metadata": {},
   "source": [
    "### If we put return statement in finally block function will always evaluate that return statement\n"
   ]
  },
  {
   "cell_type": "code",
   "execution_count": 8,
   "metadata": {},
   "outputs": [
    {
     "name": "stdout",
     "output_type": "stream",
     "text": [
      "10\n"
     ]
    }
   ],
   "source": [
    "def div (a,b):\n",
    "    try:\n",
    "        return a/b\n",
    "    except:\n",
    "        print(\"this is wrong division\")\n",
    "    finally:\n",
    "        return 10\n",
    "\n",
    "print(div(12,3))"
   ]
  },
  {
   "cell_type": "markdown",
   "metadata": {},
   "source": [
    "## Finally block will always execute it does not matter whether try has return anything or not"
   ]
  },
  {
   "cell_type": "code",
   "execution_count": 9,
   "metadata": {},
   "outputs": [
    {
     "name": "stdout",
     "output_type": "stream",
     "text": [
      "wrap up\n",
      "4.0\n"
     ]
    }
   ],
   "source": [
    "def div(a,b):\n",
    "    try:\n",
    "        return a/b\n",
    "    except:\n",
    "        print('error')\n",
    "    finally:\n",
    "        print('wrap up')\n",
    "\n",
    "print(div(12,3))"
   ]
  },
  {
   "cell_type": "markdown",
   "metadata": {},
   "source": [
    "# Local and global variable in python"
   ]
  },
  {
   "cell_type": "code",
   "execution_count": 10,
   "metadata": {},
   "outputs": [
    {
     "name": "stdout",
     "output_type": "stream",
     "text": [
      "5\n",
      "10\n"
     ]
    }
   ],
   "source": [
    "x=10\n",
    "def show():\n",
    "    x=5\n",
    "    print(x)\n",
    "\n",
    "show()\n",
    "print(x)"
   ]
  },
  {
   "cell_type": "code",
   "execution_count": 17,
   "metadata": {},
   "outputs": [
    {
     "name": "stdout",
     "output_type": "stream",
     "text": [
      "10\n"
     ]
    }
   ],
   "source": [
    "x=10\n",
    "def show():\n",
    "    print(x)\n",
    "    \n",
    "show()"
   ]
  },
  {
   "cell_type": "code",
   "execution_count": 13,
   "metadata": {},
   "outputs": [],
   "source": [
    "x=10\n",
    "def show():\n",
    "    x+=5\n",
    "    print(x)\n",
    "    \n",
    "# show()\n",
    "# This function call will be an error as x inside show function is not assigned with any value"
   ]
  },
  {
   "cell_type": "markdown",
   "metadata": {},
   "source": [
    "## carefully see above two we are printing the global varible but we can't modify it unless we use the keyword global and nonlocal in the case of enclosure"
   ]
  },
  {
   "cell_type": "code",
   "execution_count": 15,
   "metadata": {},
   "outputs": [
    {
     "name": "stdout",
     "output_type": "stream",
     "text": [
      "15\n",
      "15\n"
     ]
    }
   ],
   "source": [
    "x=10\n",
    "\n",
    "def show():\n",
    "    global x\n",
    "    x+=5\n",
    "    print(x)\n",
    "\n",
    "show()\n",
    "print(x)"
   ]
  },
  {
   "cell_type": "markdown",
   "metadata": {},
   "source": [
    "### Every thing in python is object so we can define a function inside another function as functions are also object this concept is known as enclosures"
   ]
  },
  {
   "cell_type": "code",
   "execution_count": 16,
   "metadata": {},
   "outputs": [
    {
     "name": "stdout",
     "output_type": "stream",
     "text": [
      "local\n",
      "local\n"
     ]
    }
   ],
   "source": [
    "def outer():\n",
    "    x=\"local\"\n",
    "    def inner():\n",
    "        print(x)\n",
    "    inner()\n",
    "    print(x)\n",
    "\n",
    "\n",
    "    \n",
    "outer()"
   ]
  },
  {
   "cell_type": "code",
   "execution_count": 18,
   "metadata": {},
   "outputs": [
    {
     "name": "stdout",
     "output_type": "stream",
     "text": [
      "aman\n",
      "aman\n"
     ]
    }
   ],
   "source": [
    "def outer():\n",
    "    x=\"local\"\n",
    "    def inner():\n",
    "        nonlocal x\n",
    "        x=\"aman\"\n",
    "        print(x)\n",
    "    inner()\n",
    "    print(x)\n",
    "\n",
    "outer()"
   ]
  },
  {
   "cell_type": "code",
   "execution_count": 21,
   "metadata": {},
   "outputs": [
    {
     "name": "stdout",
     "output_type": "stream",
     "text": [
      "15\n",
      "15\n"
     ]
    }
   ],
   "source": [
    "def outer():\n",
    "    x=10\n",
    "    def inner():\n",
    "        nonlocal x\n",
    "        x+=5\n",
    "        print(x)\n",
    "    inner()\n",
    "    print(x)\n",
    "\n",
    "outer()\n",
    "        "
   ]
  },
  {
   "cell_type": "code",
   "execution_count": 24,
   "metadata": {},
   "outputs": [
    {
     "name": "stdout",
     "output_type": "stream",
     "text": [
      "15\n",
      "0x10af4a760\n",
      "10\n",
      "0x10af4a6c0\n"
     ]
    }
   ],
   "source": [
    "a=10\n",
    "def something():\n",
    "    a=15\n",
    "    print(a)\n",
    "    print(hex(id(a)))\n",
    "\n",
    "something()\n",
    "print(a)\n",
    "print(hex(id(a)))\n",
    "\n",
    "\n",
    "\n",
    "# as address of both the \"a\" are different so both the \"a\" are different"
   ]
  },
  {
   "cell_type": "code",
   "execution_count": 25,
   "metadata": {},
   "outputs": [
    {
     "name": "stdout",
     "output_type": "stream",
     "text": [
      "15\n",
      "0x10af4a760\n",
      "15\n",
      "0x10af4a760\n"
     ]
    }
   ],
   "source": [
    "a=10\n",
    "\n",
    "def give():\n",
    "    global a\n",
    "    a=15\n",
    "    print(a)\n",
    "    print(hex(id(a)))\n",
    "\n",
    "give()\n",
    "print(a)\n",
    "print(hex(id(a)))\n",
    "\n",
    "\n",
    "# here by using the keyword both the \"a\" are pointing to the same memory block"
   ]
  },
  {
   "cell_type": "code",
   "execution_count": 26,
   "metadata": {},
   "outputs": [],
   "source": [
    "# Used to know all the functionalities of the command\n",
    "# print?"
   ]
  },
  {
   "cell_type": "code",
   "execution_count": 35,
   "metadata": {},
   "outputs": [
    {
     "name": "stdout",
     "output_type": "stream",
     "text": [
      "4478772928\n",
      "0x10af4a6c0\n",
      "4478772896\n",
      "4478772928\n",
      "0x10af4a6c0\n",
      "4478775776\n",
      "10\n"
     ]
    }
   ],
   "source": [
    "a=10\n",
    "print(id(a))\n",
    "print(hex(id(a)))\n",
    "\n",
    "def give():\n",
    "    a=9\n",
    "    print(id(a))\n",
    "    \n",
    "    \n",
    "    # As we can have multiple global variable so we have to specify which global variable \n",
    "    x=globals()['a']\n",
    "    print(id(x))\n",
    "    print(hex(id(x)))\n",
    "    \n",
    "    # i.e this is how to change the global \"a\"(from 10 to 99)\n",
    "    globals()['a']=99\n",
    "\n",
    "give()\n",
    "print(a)\n",
    "    \n",
    "    \n"
   ]
  },
  {
   "cell_type": "markdown",
   "metadata": {},
   "source": [
    "## Default arugment ( i.e we can explictly provide argument in python) "
   ]
  },
  {
   "cell_type": "code",
   "execution_count": 37,
   "metadata": {},
   "outputs": [
    {
     "name": "stdout",
     "output_type": "stream",
     "text": [
      "aman\n",
      "hello\n",
      "world\n",
      "aayushi\n",
      "something\n"
     ]
    }
   ],
   "source": [
    "def show(a,b,c,d=\"something\",e=\"more\"):\n",
    "    print(a)\n",
    "    print(b)\n",
    "    print(c)\n",
    "    print(e)\n",
    "    print(d)\n",
    "    \n",
    "show(b=\"hello\",c=\"world\",a=\"aman\",e=\"aayushi\")"
   ]
  },
  {
   "cell_type": "markdown",
   "metadata": {},
   "source": [
    "# args and kwargs"
   ]
  },
  {
   "cell_type": "code",
   "execution_count": 38,
   "metadata": {},
   "outputs": [
    {
     "name": "stdout",
     "output_type": "stream",
     "text": [
      "(1, 2, 3, 'aman')\n"
     ]
    }
   ],
   "source": [
    "# these is not related to pointers anyway ,what it does is pack all the arguments into a tuple\n",
    "def show(*args):\n",
    "    print(args)\n",
    "\n",
    "show(1,2,3,\"aman\")"
   ]
  },
  {
   "cell_type": "code",
   "execution_count": 39,
   "metadata": {},
   "outputs": [
    {
     "name": "stdout",
     "output_type": "stream",
     "text": [
      "('aman',)\n"
     ]
    }
   ],
   "source": [
    "def show(a,b,c,*args):\n",
    "    print(args)\n",
    "    \n",
    "show(1,2,3,\"aman\")"
   ]
  },
  {
   "cell_type": "code",
   "execution_count": 43,
   "metadata": {},
   "outputs": [
    {
     "name": "stdout",
     "output_type": "stream",
     "text": [
      "1\n",
      "('aman', 'saini')\n",
      "100\n",
      "20\n",
      "{'name': 'muskan'}\n"
     ]
    }
   ],
   "source": [
    "def show(a,b,c,*args,d=10,e=20,** kwargs):\n",
    "    print(a)\n",
    "    print(args)\n",
    "    print(d)\n",
    "    print(e)\n",
    "    print(kwargs)\n",
    "    \n",
    "show(1,2,3,\"aman\",\"saini\",d=100,name=\"muskan\")\n",
    "\n",
    "# Now positional argument is not allowed after aman saini as they all packed into args so we cant assign \"d\" postionaly\n",
    "# Dictoniary is created in kwargs not list like in args\n"
   ]
  },
  {
   "cell_type": "code",
   "execution_count": 47,
   "metadata": {},
   "outputs": [
    {
     "name": "stdout",
     "output_type": "stream",
     "text": [
      "the firstword is Hello\n",
      "Welcome\n",
      "to\n",
      "GeeksforGeeks\n"
     ]
    }
   ],
   "source": [
    "def myFun(first_word,*argv):\n",
    "    print(\"the firstword is \"+first_word)\n",
    "    for i in argv:\n",
    "        print(i)\n",
    "\n",
    "\n",
    "myFun('Hello', 'Welcome', 'to', 'GeeksforGeeks')"
   ]
  },
  {
   "cell_type": "code",
   "execution_count": 53,
   "metadata": {},
   "outputs": [
    {
     "name": "stdout",
     "output_type": "stream",
     "text": [
      "first == Geeks\n",
      "mid == for\n",
      "last == Geeks\n",
      "new word is aman\n"
     ]
    }
   ],
   "source": [
    "# One can think of the kwargs as being a dictionary that maps each keyword to the value that we pass alongside it.\n",
    "\n",
    "def myFun(new_word,**kwargs):  \n",
    "    for key, value in kwargs.items(): \n",
    "        print (\"%s == %s\" %(key, value)) \n",
    "    print(\"new word is \"+new_word)\n",
    "  \n",
    "\n",
    "\n",
    "myFun(\"aman\",first ='Geeks', mid ='for', last='Geeks')\n",
    "\n"
   ]
  },
  {
   "cell_type": "code",
   "execution_count": 54,
   "metadata": {},
   "outputs": [
    {
     "name": "stdout",
     "output_type": "stream",
     "text": [
      "Geeks\n",
      "for\n",
      "Geeks\n",
      "Geeks\n",
      "for\n",
      "Geeks\n"
     ]
    }
   ],
   "source": [
    "def myFun(arg1, arg2, arg3): \n",
    "    print(arg1)\n",
    "    print(arg2)\n",
    "    print(arg3)\n",
    "\n",
    "\n",
    "args = (\"Geeks\", \"for\", \"Geeks\") \n",
    "myFun(*args) \n",
    "\n",
    "kwargs = {\"arg1\" : \"Geeks\", \"arg2\" : \"for\", \"arg3\" : \"Geeks\"} \n",
    "myFun(**kwargs) \n"
   ]
  },
  {
   "cell_type": "markdown",
   "metadata": {},
   "source": [
    "# Lambda functions (syntactical sugar i.e creates a function in a single line)"
   ]
  },
  {
   "cell_type": "markdown",
   "metadata": {},
   "source": [
    "## This function can have any number of arguments but only one expression, which is evaluated and returned"
   ]
  },
  {
   "cell_type": "code",
   "execution_count": 56,
   "metadata": {},
   "outputs": [
    {
     "name": "stdout",
     "output_type": "stream",
     "text": [
      "<function add at 0x10d2d62f0>\n"
     ]
    }
   ],
   "source": [
    "# Everthing in python is an object even function is object \n",
    "\n",
    "def add():\n",
    "    return 20\n",
    "\n",
    "print(add)\n",
    "# we can see it is a function object with the following address"
   ]
  },
  {
   "cell_type": "code",
   "execution_count": 57,
   "metadata": {},
   "outputs": [
    {
     "name": "stdout",
     "output_type": "stream",
     "text": [
      "99\n"
     ]
    }
   ],
   "source": [
    "# As it is an object so we can even change the values of it\n",
    "\n",
    "add=99\n",
    "print(add)"
   ]
  },
  {
   "cell_type": "code",
   "execution_count": 58,
   "metadata": {},
   "outputs": [
    {
     "name": "stdout",
     "output_type": "stream",
     "text": [
      "27\n"
     ]
    }
   ],
   "source": [
    "g=lambda x:x*x*x\n",
    "print(g(3))"
   ]
  },
  {
   "cell_type": "code",
   "execution_count": 60,
   "metadata": {},
   "outputs": [
    {
     "name": "stdout",
     "output_type": "stream",
     "text": [
      "[5, 7, 97, 77, 23, 73, 61]\n",
      "[5, 7, 22, 97, 54, 62, 77, 23, 73, 61]\n"
     ]
    }
   ],
   "source": [
    "# The filter() function in Python takes in a function and a list as arguments. \n",
    "# This offers an elegant way to filter out all the elements of a sequence “sequence”,\n",
    "# for which the function returns True.\n",
    "\n",
    "\n",
    "li = [5, 7, 22, 97, 54, 62, 77, 23, 73, 61] \n",
    "final_list=list(filter(lambda x:(x%2!=0),li))\n",
    "print(final_list)\n",
    "print(li)"
   ]
  },
  {
   "cell_type": "code",
   "execution_count": 62,
   "metadata": {},
   "outputs": [
    {
     "name": "stdout",
     "output_type": "stream",
     "text": [
      "[10, 14, 44, 194, 108, 124, 154, 46, 146, 122]\n"
     ]
    }
   ],
   "source": [
    "li = [5, 7, 22, 97, 54, 62, 77, 23, 73, 61] \n",
    "final_list = list(map(lambda x: x*2 , li)) \n",
    "print(final_list)"
   ]
  },
  {
   "cell_type": "code",
   "execution_count": 64,
   "metadata": {},
   "outputs": [
    {
     "name": "stdout",
     "output_type": "stream",
     "text": [
      "193\n"
     ]
    }
   ],
   "source": [
    "li = [5, 8, 10, 20, 50, 100] \n",
    "sum = reduce((lambda x, y: x + y), li) \n",
    "print (sum) "
   ]
  },
  {
   "cell_type": "markdown",
   "metadata": {},
   "source": [
    "# sorting on the basis of defalut parameter"
   ]
  },
  {
   "cell_type": "code",
   "execution_count": 70,
   "metadata": {},
   "outputs": [
    {
     "name": "stdout",
     "output_type": "stream",
     "text": [
      "[('aman', 6), ('jatin', 5), ('ram', 1)]\n",
      "[('jatin', 5), ('aman', 6), ('ram', 1)]\n",
      "[('ram', 1), ('jatin', 5), ('aman', 6)]\n",
      "[('ram', 1), ('jatin', 5), ('aman', 6)]\n"
     ]
    }
   ],
   "source": [
    "def key(x):\n",
    "    return x[1]\n",
    "\n",
    "a=[(\"jatin\",5),(\"aman\",6),(\"ram\",1)]\n",
    "print(sorted(a))\n",
    "print(a)\n",
    "\n",
    "# by default it is lexiographical sort say now we want to sort on the basics of values\n",
    "print(sorted(a,key=lambda x:x[1]))\n",
    "\n",
    "# however we can also redefine a function and then use that as an argument\n",
    "print(sorted(a,key=key))"
   ]
  },
  {
   "cell_type": "markdown",
   "metadata": {},
   "source": [
    "# Decorators in python"
   ]
  },
  {
   "cell_type": "code",
   "execution_count": 73,
   "metadata": {},
   "outputs": [
    {
     "name": "stdout",
     "output_type": "stream",
     "text": [
      "hello world \n",
      "11\n"
     ]
    }
   ],
   "source": [
    "data_base={\n",
    "           \"aman\":\"code forces\",\n",
    "           \"jatin\":\"code blocks\"\n",
    "          }\n",
    "\n",
    "def show(username,password,a,b):\n",
    "    if username in data_base and data_base[username]==password:\n",
    "        print(\"hello world \")\n",
    "        print(a+b)\n",
    "    else:\n",
    "        print(\"incorrect\")\n",
    "        \n",
    "show(\"jatin\",\"code blocks\",5,6)"
   ]
  },
  {
   "cell_type": "markdown",
   "metadata": {},
   "source": [
    "## Concept of args and kwargs\n",
    "### it is known that args take positional argument and kwargs take keyworded arugument"
   ]
  },
  {
   "cell_type": "code",
   "execution_count": 79,
   "metadata": {},
   "outputs": [
    {
     "name": "stdout",
     "output_type": "stream",
     "text": [
      "((1, 2, 3),)\n",
      "{}\n",
      "(1, 2, 3)\n",
      "{}\n"
     ]
    }
   ],
   "source": [
    "def temp(*args,**kwargs):\n",
    "    print(args)\n",
    "    print(kwargs)\n",
    "\n",
    "    \n",
    "a=(1,2,3)\n",
    "temp(a)\n",
    "temp(*a)\n",
    "\n",
    "# Now *a means it will be \"a\" will be inflated to individual argument\n"
   ]
  },
  {
   "cell_type": "code",
   "execution_count": 6,
   "metadata": {},
   "outputs": [
    {
     "name": "stdout",
     "output_type": "stream",
     "text": [
      "3\n"
     ]
    }
   ],
   "source": [
    "def add(a,b):\n",
    "    print(a+b)\n",
    "\n",
    "\n",
    "data_base={\n",
    "           \"aman\":\"code forces\",\n",
    "           \"jatin\":\"code blocks\"\n",
    "          }\n",
    "\n",
    "\n",
    "\n",
    "# function taking another function as argument\n",
    "def login(func):\n",
    "        def wrapper(username,password,*args,**kwargs):\n",
    "            if username in data_base and data_base[username]==password:\n",
    "                # Now user is authenciated\n",
    "                # args and kwargs will be inflated and passed as argument\n",
    "                func(*args,**kwargs)\n",
    "            else:\n",
    "                print(\"incorrect\")\n",
    "        return wrapper\n",
    "        # wrapper is returned which will identify the behaviour of add function\n",
    "        \n",
    "protect=login(add)\n",
    "protect(\"aman\",\"code forces\",1,2)\n"
   ]
  },
  {
   "cell_type": "code",
   "execution_count": null,
   "metadata": {},
   "outputs": [],
   "source": []
  }
 ],
 "metadata": {
  "kernelspec": {
   "display_name": "Python 3",
   "language": "python",
   "name": "python3"
  },
  "language_info": {
   "codemirror_mode": {
    "name": "ipython",
    "version": 3
   },
   "file_extension": ".py",
   "mimetype": "text/x-python",
   "name": "python",
   "nbconvert_exporter": "python",
   "pygments_lexer": "ipython3",
   "version": "3.7.3"
  }
 },
 "nbformat": 4,
 "nbformat_minor": 2
}
